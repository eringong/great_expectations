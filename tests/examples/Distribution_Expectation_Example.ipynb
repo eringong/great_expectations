{
 "cells": [
  {
   "cell_type": "code",
   "execution_count": 1,
   "metadata": {},
   "outputs": [
    {
     "data": {
      "text/html": [
       "\n",
       "    <div class=\"bk-root\">\n",
       "        <a href=\"http://bokeh.pydata.org\" target=\"_blank\" class=\"bk-logo bk-logo-small bk-logo-notebook\"></a>\n",
       "        <span id=\"2a2ed8f9-2fb1-434b-ba22-e6413e26232d\">Loading BokehJS ...</span>\n",
       "    </div>"
      ]
     },
     "metadata": {},
     "output_type": "display_data"
    },
    {
     "data": {
      "application/javascript": [
       "\n",
       "(function(global) {\n",
       "  function now() {\n",
       "    return new Date();\n",
       "  }\n",
       "\n",
       "  var force = true;\n",
       "\n",
       "  if (typeof (window._bokeh_onload_callbacks) === \"undefined\" || force === true) {\n",
       "    window._bokeh_onload_callbacks = [];\n",
       "    window._bokeh_is_loading = undefined;\n",
       "  }\n",
       "\n",
       "\n",
       "  \n",
       "  if (typeof (window._bokeh_timeout) === \"undefined\" || force === true) {\n",
       "    window._bokeh_timeout = Date.now() + 5000;\n",
       "    window._bokeh_failed_load = false;\n",
       "  }\n",
       "\n",
       "  var NB_LOAD_WARNING = {'data': {'text/html':\n",
       "     \"<div style='background-color: #fdd'>\\n\"+\n",
       "     \"<p>\\n\"+\n",
       "     \"BokehJS does not appear to have successfully loaded. If loading BokehJS from CDN, this \\n\"+\n",
       "     \"may be due to a slow or bad network connection. Possible fixes:\\n\"+\n",
       "     \"</p>\\n\"+\n",
       "     \"<ul>\\n\"+\n",
       "     \"<li>re-rerun `output_notebook()` to attempt to load from CDN again, or</li>\\n\"+\n",
       "     \"<li>use INLINE resources instead, as so:</li>\\n\"+\n",
       "     \"</ul>\\n\"+\n",
       "     \"<code>\\n\"+\n",
       "     \"from bokeh.resources import INLINE\\n\"+\n",
       "     \"output_notebook(resources=INLINE)\\n\"+\n",
       "     \"</code>\\n\"+\n",
       "     \"</div>\"}};\n",
       "\n",
       "  function display_loaded() {\n",
       "    if (window.Bokeh !== undefined) {\n",
       "      var el = document.getElementById(\"2a2ed8f9-2fb1-434b-ba22-e6413e26232d\");\n",
       "      el.textContent = \"BokehJS \" + Bokeh.version + \" successfully loaded.\";\n",
       "    } else if (Date.now() < window._bokeh_timeout) {\n",
       "      setTimeout(display_loaded, 100)\n",
       "    }\n",
       "  }\n",
       "\n",
       "  function run_callbacks() {\n",
       "    try {\n",
       "      window._bokeh_onload_callbacks.forEach(function(callback) { callback() });\n",
       "    }\n",
       "    finally {\n",
       "      delete window._bokeh_onload_callbacks\n",
       "    }\n",
       "    console.info(\"Bokeh: all callbacks have finished\");\n",
       "  }\n",
       "\n",
       "  function load_libs(js_urls, callback) {\n",
       "    window._bokeh_onload_callbacks.push(callback);\n",
       "    if (window._bokeh_is_loading > 0) {\n",
       "      console.log(\"Bokeh: BokehJS is being loaded, scheduling callback at\", now());\n",
       "      return null;\n",
       "    }\n",
       "    if (js_urls == null || js_urls.length === 0) {\n",
       "      run_callbacks();\n",
       "      return null;\n",
       "    }\n",
       "    console.log(\"Bokeh: BokehJS not loaded, scheduling load and callback at\", now());\n",
       "    window._bokeh_is_loading = js_urls.length;\n",
       "    for (var i = 0; i < js_urls.length; i++) {\n",
       "      var url = js_urls[i];\n",
       "      var s = document.createElement('script');\n",
       "      s.src = url;\n",
       "      s.async = false;\n",
       "      s.onreadystatechange = s.onload = function() {\n",
       "        window._bokeh_is_loading--;\n",
       "        if (window._bokeh_is_loading === 0) {\n",
       "          console.log(\"Bokeh: all BokehJS libraries loaded\");\n",
       "          run_callbacks()\n",
       "        }\n",
       "      };\n",
       "      s.onerror = function() {\n",
       "        console.warn(\"failed to load library \" + url);\n",
       "      };\n",
       "      console.log(\"Bokeh: injecting script tag for BokehJS library: \", url);\n",
       "      document.getElementsByTagName(\"head\")[0].appendChild(s);\n",
       "    }\n",
       "  };var element = document.getElementById(\"2a2ed8f9-2fb1-434b-ba22-e6413e26232d\");\n",
       "  if (element == null) {\n",
       "    console.log(\"Bokeh: ERROR: autoload.js configured with elementid '2a2ed8f9-2fb1-434b-ba22-e6413e26232d' but no matching script tag was found. \")\n",
       "    return false;\n",
       "  }\n",
       "\n",
       "  var js_urls = [\"https://cdn.pydata.org/bokeh/release/bokeh-0.12.6.min.js\", \"https://cdn.pydata.org/bokeh/release/bokeh-widgets-0.12.6.min.js\"];\n",
       "\n",
       "  var inline_js = [\n",
       "    function(Bokeh) {\n",
       "      Bokeh.set_log_level(\"info\");\n",
       "    },\n",
       "    \n",
       "    function(Bokeh) {\n",
       "      \n",
       "    },\n",
       "    \n",
       "    function(Bokeh) {\n",
       "      \n",
       "      document.getElementById(\"2a2ed8f9-2fb1-434b-ba22-e6413e26232d\").textContent = \"BokehJS is loading...\";\n",
       "    },\n",
       "    function(Bokeh) {\n",
       "      console.log(\"Bokeh: injecting CSS: https://cdn.pydata.org/bokeh/release/bokeh-0.12.6.min.css\");\n",
       "      Bokeh.embed.inject_css(\"https://cdn.pydata.org/bokeh/release/bokeh-0.12.6.min.css\");\n",
       "      console.log(\"Bokeh: injecting CSS: https://cdn.pydata.org/bokeh/release/bokeh-widgets-0.12.6.min.css\");\n",
       "      Bokeh.embed.inject_css(\"https://cdn.pydata.org/bokeh/release/bokeh-widgets-0.12.6.min.css\");\n",
       "    }\n",
       "  ];\n",
       "\n",
       "  function run_inline_js() {\n",
       "    \n",
       "    if ((window.Bokeh !== undefined) || (force === true)) {\n",
       "      for (var i = 0; i < inline_js.length; i++) {\n",
       "        inline_js[i](window.Bokeh);\n",
       "      }if (force === true) {\n",
       "        display_loaded();\n",
       "      }} else if (Date.now() < window._bokeh_timeout) {\n",
       "      setTimeout(run_inline_js, 100);\n",
       "    } else if (!window._bokeh_failed_load) {\n",
       "      console.log(\"Bokeh: BokehJS failed to load within specified timeout.\");\n",
       "      window._bokeh_failed_load = true;\n",
       "    } else if (force !== true) {\n",
       "      var cell = $(document.getElementById(\"2a2ed8f9-2fb1-434b-ba22-e6413e26232d\")).parents('.cell').data().cell;\n",
       "      cell.output_area.append_execute_result(NB_LOAD_WARNING)\n",
       "    }\n",
       "\n",
       "  }\n",
       "\n",
       "  if (window._bokeh_is_loading === 0) {\n",
       "    console.log(\"Bokeh: BokehJS loaded, going straight to plotting\");\n",
       "    run_inline_js();\n",
       "  } else {\n",
       "    load_libs(js_urls, function() {\n",
       "      console.log(\"Bokeh: BokehJS plotting callback run at\", now());\n",
       "      run_inline_js();\n",
       "    });\n",
       "  }\n",
       "}(this));"
      ]
     },
     "metadata": {},
     "output_type": "display_data"
    }
   ],
   "source": [
    "import pandas as pd\n",
    "import great_expectations as ge\n",
    "\n",
    "from bokeh.plotting import figure, output_notebook, show\n",
    "from bokeh.layouts import gridplot\n",
    "output_notebook()"
   ]
  },
  {
   "cell_type": "code",
   "execution_count": 2,
   "metadata": {
    "collapsed": true
   },
   "outputs": [],
   "source": [
    "import numpy as np\n",
    "from scipy import stats"
   ]
  },
  {
   "cell_type": "code",
   "execution_count": 3,
   "metadata": {
    "collapsed": true
   },
   "outputs": [],
   "source": [
    "def generateData(size):\n",
    "    w = 0.3\n",
    "    df = pd.DataFrame()\n",
    "    df['norm_0_1'] = stats.norm(loc = 0, scale = 1).rvs(size = size)\n",
    "    df['norm_0_1_b'] = stats.norm(loc = 0, scale = 1).rvs(size = size)\n",
    "    df['norm_1_1'] = stats.norm(loc = 1, scale = 1).rvs(size = size)\n",
    "    df['norm_10_1'] = stats.norm(loc = 10, scale = 1).rvs(size = size)\n",
    "    df['bimodal'] = np.concatenate((df['norm_0_1'][0:int(size/2)],df['norm_10_1'][int(size/2):]))\n",
    "    return df"
   ]
  },
  {
   "cell_type": "code",
   "execution_count": 4,
   "metadata": {
    "collapsed": true
   },
   "outputs": [],
   "source": [
    "df_1000 = generateData(1000)\n",
    "df_100 = generateData(100)\n",
    "df_10000 = generateData(10000)\n",
    "df_1000000 = generateData(1000000)"
   ]
  },
  {
   "cell_type": "code",
   "execution_count": 5,
   "metadata": {
    "collapsed": true
   },
   "outputs": [],
   "source": [
    "unreasonably_clean_data = ge.df(df_10000)"
   ]
  },
  {
   "cell_type": "markdown",
   "metadata": {},
   "source": [
    "## Remember that this is not a statistical test!\n",
    "\n",
    "We are simply making expectations about the *sample* of data that we have in front of us."
   ]
  },
  {
   "cell_type": "code",
   "execution_count": 6,
   "metadata": {},
   "outputs": [
    {
     "data": {
      "text/plain": [
       "{'exception_list': 9.0339117641192242e-05, 'success': True}"
      ]
     },
     "execution_count": 6,
     "metadata": {},
     "output_type": "execute_result"
    }
   ],
   "source": [
    "unreasonably_clean_data.expect_column_mean_to_be_between('norm_0_1', -0.1, 0.1)"
   ]
  },
  {
   "cell_type": "code",
   "execution_count": 7,
   "metadata": {},
   "outputs": [
    {
     "data": {
      "text/html": [
       "\n",
       "\n",
       "    <div class=\"bk-root\">\n",
       "        <div class=\"bk-plotdiv\" id=\"3a9225a3-28b9-4f77-bfff-faf078b8be12\"></div>\n",
       "    </div>\n",
       "<script type=\"text/javascript\">\n",
       "  \n",
       "  (function(global) {\n",
       "    function now() {\n",
       "      return new Date();\n",
       "    }\n",
       "  \n",
       "    var force = false;\n",
       "  \n",
       "    if (typeof (window._bokeh_onload_callbacks) === \"undefined\" || force === true) {\n",
       "      window._bokeh_onload_callbacks = [];\n",
       "      window._bokeh_is_loading = undefined;\n",
       "    }\n",
       "  \n",
       "  \n",
       "    \n",
       "    if (typeof (window._bokeh_timeout) === \"undefined\" || force === true) {\n",
       "      window._bokeh_timeout = Date.now() + 0;\n",
       "      window._bokeh_failed_load = false;\n",
       "    }\n",
       "  \n",
       "    var NB_LOAD_WARNING = {'data': {'text/html':\n",
       "       \"<div style='background-color: #fdd'>\\n\"+\n",
       "       \"<p>\\n\"+\n",
       "       \"BokehJS does not appear to have successfully loaded. If loading BokehJS from CDN, this \\n\"+\n",
       "       \"may be due to a slow or bad network connection. Possible fixes:\\n\"+\n",
       "       \"</p>\\n\"+\n",
       "       \"<ul>\\n\"+\n",
       "       \"<li>re-rerun `output_notebook()` to attempt to load from CDN again, or</li>\\n\"+\n",
       "       \"<li>use INLINE resources instead, as so:</li>\\n\"+\n",
       "       \"</ul>\\n\"+\n",
       "       \"<code>\\n\"+\n",
       "       \"from bokeh.resources import INLINE\\n\"+\n",
       "       \"output_notebook(resources=INLINE)\\n\"+\n",
       "       \"</code>\\n\"+\n",
       "       \"</div>\"}};\n",
       "  \n",
       "    function display_loaded() {\n",
       "      if (window.Bokeh !== undefined) {\n",
       "        var el = document.getElementById(\"3a9225a3-28b9-4f77-bfff-faf078b8be12\");\n",
       "        el.textContent = \"BokehJS \" + Bokeh.version + \" successfully loaded.\";\n",
       "      } else if (Date.now() < window._bokeh_timeout) {\n",
       "        setTimeout(display_loaded, 100)\n",
       "      }\n",
       "    }\n",
       "  \n",
       "    function run_callbacks() {\n",
       "      try {\n",
       "        window._bokeh_onload_callbacks.forEach(function(callback) { callback() });\n",
       "      }\n",
       "      finally {\n",
       "        delete window._bokeh_onload_callbacks\n",
       "      }\n",
       "      console.info(\"Bokeh: all callbacks have finished\");\n",
       "    }\n",
       "  \n",
       "    function load_libs(js_urls, callback) {\n",
       "      window._bokeh_onload_callbacks.push(callback);\n",
       "      if (window._bokeh_is_loading > 0) {\n",
       "        console.log(\"Bokeh: BokehJS is being loaded, scheduling callback at\", now());\n",
       "        return null;\n",
       "      }\n",
       "      if (js_urls == null || js_urls.length === 0) {\n",
       "        run_callbacks();\n",
       "        return null;\n",
       "      }\n",
       "      console.log(\"Bokeh: BokehJS not loaded, scheduling load and callback at\", now());\n",
       "      window._bokeh_is_loading = js_urls.length;\n",
       "      for (var i = 0; i < js_urls.length; i++) {\n",
       "        var url = js_urls[i];\n",
       "        var s = document.createElement('script');\n",
       "        s.src = url;\n",
       "        s.async = false;\n",
       "        s.onreadystatechange = s.onload = function() {\n",
       "          window._bokeh_is_loading--;\n",
       "          if (window._bokeh_is_loading === 0) {\n",
       "            console.log(\"Bokeh: all BokehJS libraries loaded\");\n",
       "            run_callbacks()\n",
       "          }\n",
       "        };\n",
       "        s.onerror = function() {\n",
       "          console.warn(\"failed to load library \" + url);\n",
       "        };\n",
       "        console.log(\"Bokeh: injecting script tag for BokehJS library: \", url);\n",
       "        document.getElementsByTagName(\"head\")[0].appendChild(s);\n",
       "      }\n",
       "    };var element = document.getElementById(\"3a9225a3-28b9-4f77-bfff-faf078b8be12\");\n",
       "    if (element == null) {\n",
       "      console.log(\"Bokeh: ERROR: autoload.js configured with elementid '3a9225a3-28b9-4f77-bfff-faf078b8be12' but no matching script tag was found. \")\n",
       "      return false;\n",
       "    }\n",
       "  \n",
       "    var js_urls = [];\n",
       "  \n",
       "    var inline_js = [\n",
       "      function(Bokeh) {\n",
       "        (function() {\n",
       "          var fn = function() {\n",
       "            var docs_json = {\"8043f8ef-e073-4f43-8b56-51b2f49e6b1f\":{\"roots\":{\"references\":[{\"attributes\":{\"bottom_units\":\"screen\",\"fill_alpha\":{\"value\":0.5},\"fill_color\":{\"value\":\"lightgrey\"},\"left_units\":\"screen\",\"level\":\"overlay\",\"line_alpha\":{\"value\":1.0},\"line_color\":{\"value\":\"black\"},\"line_dash\":[4,4],\"line_width\":{\"value\":2},\"plot\":null,\"render_mode\":\"css\",\"right_units\":\"screen\",\"top_units\":\"screen\"},\"id\":\"99db35cb-26c2-4a07-8ea8-52e8020648b9\",\"type\":\"BoxAnnotation\"},{\"attributes\":{\"plot\":{\"id\":\"43b60638-bfb7-4557-becd-f5e45ac8ab65\",\"subtype\":\"Figure\",\"type\":\"Plot\"}},\"id\":\"b49949c4-af32-4693-807e-aad2eceecd10\",\"type\":\"ResetTool\"},{\"attributes\":{\"plot\":{\"id\":\"43b60638-bfb7-4557-becd-f5e45ac8ab65\",\"subtype\":\"Figure\",\"type\":\"Plot\"}},\"id\":\"204e6fbd-7ae1-4b04-bec0-90fc466104bf\",\"type\":\"HelpTool\"},{\"attributes\":{\"callback\":null},\"id\":\"8cee026d-340a-4a80-af6e-c2d3f4fc0a02\",\"type\":\"DataRange1d\"},{\"attributes\":{\"bottom\":{\"value\":0},\"fill_alpha\":{\"value\":0.1},\"fill_color\":{\"value\":\"#1f77b4\"},\"left\":{\"field\":\"left\"},\"line_alpha\":{\"value\":0.1},\"line_color\":{\"value\":\"#1f77b4\"},\"right\":{\"field\":\"right\"},\"top\":{\"field\":\"top\"}},\"id\":\"b4e25215-c87d-4739-ab72-d06be35bcc81\",\"type\":\"Quad\"},{\"attributes\":{\"plot\":null,\"text\":\"bimodal\"},\"id\":\"04adf4c9-78f4-4efc-b6a1-5579d1fb7379\",\"type\":\"Title\"},{\"attributes\":{},\"id\":\"bda9239f-3bd3-4327-863e-eef59ef09962\",\"type\":\"ToolEvents\"},{\"attributes\":{\"active_drag\":\"auto\",\"active_inspect\":\"auto\",\"active_scroll\":\"auto\",\"active_tap\":\"auto\",\"tools\":[{\"id\":\"84ca9c57-cd30-45a0-90a1-3deb28ca4a59\",\"type\":\"PanTool\"},{\"id\":\"4f4fb971-b669-431a-9ab1-fc5abce41081\",\"type\":\"WheelZoomTool\"},{\"id\":\"96fd17ca-c135-4560-ac23-ad1cac682975\",\"type\":\"BoxZoomTool\"},{\"id\":\"f656c7b5-526e-43a3-931a-7e303906abef\",\"type\":\"SaveTool\"},{\"id\":\"cfb61b3c-66f4-46f9-8364-c01f77440f29\",\"type\":\"ResetTool\"},{\"id\":\"b872ab05-c68e-4333-8f99-5a77eb53d643\",\"type\":\"HelpTool\"}]},\"id\":\"de598672-1784-45ec-9ffb-31aee72c8344\",\"type\":\"Toolbar\"},{\"attributes\":{},\"id\":\"07d97be8-01a7-4ce9-b07b-994e8018de4c\",\"type\":\"LinearScale\"},{\"attributes\":{\"callback\":null},\"id\":\"996ab617-7f4e-4cc2-ac1e-4809696fc8ad\",\"type\":\"DataRange1d\"},{\"attributes\":{},\"id\":\"5d4bb855-c104-4688-8f24-fad0b82fd5c8\",\"type\":\"LinearScale\"},{\"attributes\":{\"plot\":{\"id\":\"c8f8d121-b579-4fa5-af37-be256b6b06e6\",\"subtype\":\"Figure\",\"type\":\"Plot\"},\"ticker\":{\"id\":\"c6637ce1-aebe-45da-95dd-ca4b218ead1e\",\"type\":\"BasicTicker\"}},\"id\":\"916b87f9-c0bd-4d32-933b-f28459026b26\",\"type\":\"Grid\"},{\"attributes\":{\"axis_label\":\"x\",\"formatter\":{\"id\":\"8a498111-873a-41c0-a5ae-e718d9353605\",\"type\":\"BasicTickFormatter\"},\"plot\":{\"id\":\"c8f8d121-b579-4fa5-af37-be256b6b06e6\",\"subtype\":\"Figure\",\"type\":\"Plot\"},\"ticker\":{\"id\":\"c6637ce1-aebe-45da-95dd-ca4b218ead1e\",\"type\":\"BasicTicker\"}},\"id\":\"153f65f6-e881-4adb-9fad-f0d9ae4647b1\",\"type\":\"LinearAxis\"},{\"attributes\":{},\"id\":\"c6637ce1-aebe-45da-95dd-ca4b218ead1e\",\"type\":\"BasicTicker\"},{\"attributes\":{\"axis_label\":\"Pr(x)\",\"formatter\":{\"id\":\"3302dba6-be37-4f46-b6eb-15d02e6df1d8\",\"type\":\"BasicTickFormatter\"},\"plot\":{\"id\":\"c8f8d121-b579-4fa5-af37-be256b6b06e6\",\"subtype\":\"Figure\",\"type\":\"Plot\"},\"ticker\":{\"id\":\"2445ccd1-259c-4efc-9cd1-10917bc3aa20\",\"type\":\"BasicTicker\"}},\"id\":\"a6712d9d-b9b8-457e-949f-d71b91306cd5\",\"type\":\"LinearAxis\"},{\"attributes\":{},\"id\":\"2445ccd1-259c-4efc-9cd1-10917bc3aa20\",\"type\":\"BasicTicker\"},{\"attributes\":{\"dimension\":1,\"plot\":{\"id\":\"c8f8d121-b579-4fa5-af37-be256b6b06e6\",\"subtype\":\"Figure\",\"type\":\"Plot\"},\"ticker\":{\"id\":\"2445ccd1-259c-4efc-9cd1-10917bc3aa20\",\"type\":\"BasicTicker\"}},\"id\":\"a89af67e-df32-44d4-bba9-85d8af9dcedc\",\"type\":\"Grid\"},{\"attributes\":{\"bottom\":{\"value\":0},\"fill_color\":{\"value\":\"#036564\"},\"left\":{\"field\":\"left\"},\"line_color\":{\"value\":\"#033649\"},\"right\":{\"field\":\"right\"},\"top\":{\"field\":\"top\"}},\"id\":\"0232ff4f-50b2-465f-b1eb-433c5dc7a7ff\",\"type\":\"Quad\"},{\"attributes\":{\"children\":[{\"id\":\"0dd0bea7-acba-4422-b61d-0205ca5d151b\",\"type\":\"Row\"},{\"id\":\"4a09531c-6cdb-469a-90d1-f7ca949f2d17\",\"type\":\"Row\"}]},\"id\":\"db8ae869-ffe6-438a-9f8f-2a2567d0bb66\",\"type\":\"Column\"},{\"attributes\":{\"callback\":null,\"column_names\":[\"left\",\"right\",\"top\"],\"data\":{\"left\":{\"__ndarray__\":\"IAoJ7g0oCsC+/6IUQlMDwLbqeXbs/Pi/4Ktbh6mm5r+g9vF4F7LCPzCn1EO1/+8/YGi2VHKp/T+SPsEDhakFQPRIJ91QfgxAq6lGW46pEUDcrvlH9BMVQA60rDRafhhAQLlfIcDoG0BwvhIOJlMfQNHhYv3FXiFAaWS88/gTI0AC5xXqK8kkQJtpb+BefiZAM+zI1pEzKEDMbiLNxOgpQA==\",\"dtype\":\"float64\",\"shape\":[20]},\"right\":{\"__ndarray__\":\"vv+iFEJTA8C26nl27Pz4v+CrW4eppua/oPbxeBeywj8wp9RDtf/vP2BotlRyqf0/kj7BA4WpBUD0SCfdUH4MQKupRluOqRFA3K75R/QTFUAOtKw0Wn4YQEC5XyHA6BtAcL4SDiZTH0DR4WL9xV4hQGlkvPP4EyNAAucV6ivJJECbaW/gXn4mQDPsyNaRMyhAzG4izcToKUBk8XvD950rQA==\",\"dtype\":\"float64\",\"shape\":[20]},\"top\":{\"__ndarray__\":\"h9SL1+aVdT/7/BXwdr2dP09jwr5rXLw/zPM+KdG2xz+LclHzWs7EP2YZTN88KLM/3G09EroRkD/uUBQxIE9gP0mJcWsPsx4/AAAAAAAAAAAAAAAAAAAAAPAmlZBLBkc/e/G0uIBYhT+86NDjrqmpP7c656o/wsA/sUGF/DDdxz8mZk16dB/CP5xI0lKGhas/y2DnUn+Lhj/T9Saj6S9DPw==\",\"dtype\":\"float64\",\"shape\":[20]}}},\"id\":\"3b75adb5-6dae-4915-af93-94f56605bc5e\",\"type\":\"ColumnDataSource\"},{\"attributes\":{\"bottom_units\":\"screen\",\"fill_alpha\":{\"value\":0.5},\"fill_color\":{\"value\":\"lightgrey\"},\"left_units\":\"screen\",\"level\":\"overlay\",\"line_alpha\":{\"value\":1.0},\"line_color\":{\"value\":\"black\"},\"line_dash\":[4,4],\"line_width\":{\"value\":2},\"plot\":null,\"render_mode\":\"css\",\"right_units\":\"screen\",\"top_units\":\"screen\"},\"id\":\"2bb58d4f-47f0-421a-aaf5-4de72b995977\",\"type\":\"BoxAnnotation\"},{\"attributes\":{\"plot\":{\"id\":\"c8f8d121-b579-4fa5-af37-be256b6b06e6\",\"subtype\":\"Figure\",\"type\":\"Plot\"}},\"id\":\"84ca9c57-cd30-45a0-90a1-3deb28ca4a59\",\"type\":\"PanTool\"},{\"attributes\":{\"plot\":{\"id\":\"c8f8d121-b579-4fa5-af37-be256b6b06e6\",\"subtype\":\"Figure\",\"type\":\"Plot\"}},\"id\":\"4f4fb971-b669-431a-9ab1-fc5abce41081\",\"type\":\"WheelZoomTool\"},{\"attributes\":{\"overlay\":{\"id\":\"2bb58d4f-47f0-421a-aaf5-4de72b995977\",\"type\":\"BoxAnnotation\"},\"plot\":{\"id\":\"c8f8d121-b579-4fa5-af37-be256b6b06e6\",\"subtype\":\"Figure\",\"type\":\"Plot\"}},\"id\":\"96fd17ca-c135-4560-ac23-ad1cac682975\",\"type\":\"BoxZoomTool\"},{\"attributes\":{\"plot\":{\"id\":\"c8f8d121-b579-4fa5-af37-be256b6b06e6\",\"subtype\":\"Figure\",\"type\":\"Plot\"}},\"id\":\"f656c7b5-526e-43a3-931a-7e303906abef\",\"type\":\"SaveTool\"},{\"attributes\":{\"data_source\":{\"id\":\"ee49e5a5-5bbe-4cde-871f-16372898f337\",\"type\":\"ColumnDataSource\"},\"glyph\":{\"id\":\"cc2c9a92-f703-4dcc-80fe-613296584508\",\"type\":\"Quad\"},\"hover_glyph\":null,\"muted_glyph\":null,\"nonselection_glyph\":{\"id\":\"f56a6bac-76a7-4aba-929d-96fa8ba771d6\",\"type\":\"Quad\"},\"selection_glyph\":null},\"id\":\"62fb1acf-48f5-482f-9225-b97b1eb54df2\",\"type\":\"GlyphRenderer\"},{\"attributes\":{\"plot\":{\"id\":\"c8f8d121-b579-4fa5-af37-be256b6b06e6\",\"subtype\":\"Figure\",\"type\":\"Plot\"}},\"id\":\"cfb61b3c-66f4-46f9-8364-c01f77440f29\",\"type\":\"ResetTool\"},{\"attributes\":{\"plot\":{\"id\":\"c8f8d121-b579-4fa5-af37-be256b6b06e6\",\"subtype\":\"Figure\",\"type\":\"Plot\"}},\"id\":\"b872ab05-c68e-4333-8f99-5a77eb53d643\",\"type\":\"HelpTool\"},{\"attributes\":{},\"id\":\"8a498111-873a-41c0-a5ae-e718d9353605\",\"type\":\"BasicTickFormatter\"},{\"attributes\":{\"data_source\":{\"id\":\"3b75adb5-6dae-4915-af93-94f56605bc5e\",\"type\":\"ColumnDataSource\"},\"glyph\":{\"id\":\"0232ff4f-50b2-465f-b1eb-433c5dc7a7ff\",\"type\":\"Quad\"},\"hover_glyph\":null,\"muted_glyph\":null,\"nonselection_glyph\":{\"id\":\"b4e25215-c87d-4739-ab72-d06be35bcc81\",\"type\":\"Quad\"},\"selection_glyph\":null},\"id\":\"7502c94d-71bc-49d3-ac08-4df6772ec70d\",\"type\":\"GlyphRenderer\"},{\"attributes\":{},\"id\":\"3302dba6-be37-4f46-b6eb-15d02e6df1d8\",\"type\":\"BasicTickFormatter\"},{\"attributes\":{\"children\":[{\"id\":\"030319af-62c6-49bb-894a-245f832ec6fa\",\"type\":\"ToolbarBox\"},{\"id\":\"db8ae869-ffe6-438a-9f8f-2a2567d0bb66\",\"type\":\"Column\"}]},\"id\":\"93b06343-9100-4fe3-9688-76972471556c\",\"type\":\"Column\"},{\"attributes\":{\"children\":[{\"id\":\"59ccb2c7-8f92-4e58-923b-80b0fec7c3a9\",\"subtype\":\"Figure\",\"type\":\"Plot\"},{\"id\":\"43b60638-bfb7-4557-becd-f5e45ac8ab65\",\"subtype\":\"Figure\",\"type\":\"Plot\"}]},\"id\":\"0dd0bea7-acba-4422-b61d-0205ca5d151b\",\"type\":\"Row\"},{\"attributes\":{\"sizing_mode\":\"scale_width\",\"toolbar_location\":\"above\",\"tools\":[{\"id\":\"c713c71b-d062-4667-9b23-ebc348cb43d0\",\"type\":\"PanTool\"},{\"id\":\"30143699-fc50-4826-9899-8a66348475b1\",\"type\":\"WheelZoomTool\"},{\"id\":\"6b610584-3d3c-487e-a2e1-162c29b25a5a\",\"type\":\"BoxZoomTool\"},{\"id\":\"31b1c77a-fc95-4021-95fd-8ee6416d2e03\",\"type\":\"SaveTool\"},{\"id\":\"a837b300-fcf4-4255-b0e4-23545d3830a5\",\"type\":\"ResetTool\"},{\"id\":\"61798151-b49b-45af-9aa9-47e4b942d517\",\"type\":\"HelpTool\"},{\"id\":\"00ec10a9-c35c-467d-847e-f80d9e8688a8\",\"type\":\"PanTool\"},{\"id\":\"66d7dd0f-4122-4508-8163-6b6084710c5b\",\"type\":\"WheelZoomTool\"},{\"id\":\"9d64604d-4802-4ca5-9c68-18c00445fa86\",\"type\":\"BoxZoomTool\"},{\"id\":\"432b323a-14f3-4eeb-b475-f4014c94a8bf\",\"type\":\"SaveTool\"},{\"id\":\"b49949c4-af32-4693-807e-aad2eceecd10\",\"type\":\"ResetTool\"},{\"id\":\"204e6fbd-7ae1-4b04-bec0-90fc466104bf\",\"type\":\"HelpTool\"},{\"id\":\"84ca9c57-cd30-45a0-90a1-3deb28ca4a59\",\"type\":\"PanTool\"},{\"id\":\"4f4fb971-b669-431a-9ab1-fc5abce41081\",\"type\":\"WheelZoomTool\"},{\"id\":\"96fd17ca-c135-4560-ac23-ad1cac682975\",\"type\":\"BoxZoomTool\"},{\"id\":\"f656c7b5-526e-43a3-931a-7e303906abef\",\"type\":\"SaveTool\"},{\"id\":\"cfb61b3c-66f4-46f9-8364-c01f77440f29\",\"type\":\"ResetTool\"},{\"id\":\"b872ab05-c68e-4333-8f99-5a77eb53d643\",\"type\":\"HelpTool\"}]},\"id\":\"030319af-62c6-49bb-894a-245f832ec6fa\",\"type\":\"ToolbarBox\"},{\"attributes\":{\"bottom\":{\"value\":0},\"fill_alpha\":{\"value\":0.1},\"fill_color\":{\"value\":\"#1f77b4\"},\"left\":{\"field\":\"left\"},\"line_alpha\":{\"value\":0.1},\"line_color\":{\"value\":\"#1f77b4\"},\"right\":{\"field\":\"right\"},\"top\":{\"field\":\"top\"}},\"id\":\"f56a6bac-76a7-4aba-929d-96fa8ba771d6\",\"type\":\"Quad\"},{\"attributes\":{\"callback\":null,\"column_names\":[\"left\",\"right\",\"top\"],\"data\":{\"left\":{\"__ndarray__\":\"WcHYhxy/DcAPzY6yi8oKwMTYRN361QfAeuT6B2rhBMAw8LAy2ewBwMz3zbqQ8P2/Ng86EG8H+L+iJqZlTR7yvxx8JHZXaui/6FX5QSgw2b+AOZt6GbqYv7jupRLlGNY/jMh63rXe5j/aTNGZfFjxP241ZUSeQfc/Ah757r8q/T9Lg8bM8IkBQJV3EKKBfgRA32tadxJzB0ApYKRMo2cKQA==\",\"dtype\":\"float64\",\"shape\":[20]},\"right\":{\"__ndarray__\":\"D82OsovKCsDE2ETd+tUHwHrk+gdq4QTAMPCwMtnsAcDM9826kPD9vzYPOhBvB/i/oiamZU0e8r8cfCR2V2rov+hV+UEoMNm/gDmbehm6mL+47qUS5RjWP4zIet613uY/2kzRmXxY8T9uNWVEnkH3PwIe+e6/Kv0/S4PGzPCJAUCVdxCigX4EQN9rWncScwdAKWCkTKNnCkB1VO4hNFwNQA==\",\"dtype\":\"float64\",\"shape\":[20]},\"top\":{\"__ndarray__\":\"sxrDToq9UT8DqCR2T5xqPwjp1qmxoYA/dh+bsLuPlz+MXcJ+ivKoP+hPEf0HN7c/I8k4vEZZxj+VSv5ukKrQP3hTpUpHFNQ/KCfMM+aE2T9lPwdajFjZP3Q2YH7V7tU/fZQlOg+a0T/wTxH9BzfHP5f81eXxo7k/eLRfn0Xjqj9LOBEDqB2YP4gzOaF2S4I/Ywv9vwDUbD/7pyR2T5xKPw==\",\"dtype\":\"float64\",\"shape\":[20]}}},\"id\":\"ee49e5a5-5bbe-4cde-871f-16372898f337\",\"type\":\"ColumnDataSource\"},{\"attributes\":{},\"id\":\"95b4343b-5dc6-4823-a72d-e1756bcded23\",\"type\":\"BasicTickFormatter\"},{\"attributes\":{\"callback\":null,\"column_names\":[\"left\",\"right\",\"top\"],\"data\":{\"left\":{\"__ndarray__\":\"nCyOJGYpCcB4Yhi9gxQGwFSYolWh/wLAYpxZ3H3V/78aCG4Nuav5v9Jzgj70gfO/GL8t316w6r8QLa2Cqrncv8Bv+xtdSrC/MHWv9HuU1D8o4y6Yx53mP9wFA5uoePE/IJruaW2i9z9oLto4Msz9P1jh4oP7+gFAfKtY690PBUCgdc5SwCQIQMQ/RLqiOQtA6Am6IYVODkAG6pfEs7EQQA==\",\"dtype\":\"float64\",\"shape\":[20]},\"right\":{\"__ndarray__\":\"eGIYvYMUBsBUmKJVof8CwGKcWdx91f+/GghuDbmr+b/Sc4I+9IHzvxi/Ld9esOq/EC2tgqq53L/Ab/sbXUqwvzB1r/R7lNQ/KOMumMed5j/cBQObqHjxPyCa7mltovc/aC7aODLM/T9Y4eKD+/oBQHyrWOvdDwVAoHXOUsAkCEDEP0S6ojkLQOgJuiGFTg5ABuqXxLOxEEAXz1L4JDwSQA==\",\"dtype\":\"float64\",\"shape\":[20]},\"top\":{\"__ndarray__\":\"I5uXGDqFST+cVn4UW0RVP7HfsBwZxm0/ewV4UyM0hD+cVn4UW0SVP8G1T2f0MKg/n+XvRYPquj+ZaI9auHzJP57LUpcu+tE/1IfSYmOl1j/zX77sy6PYPwlUFjVo9dc/9k2tpm5r1D9qugSGdBPNPyf+WlWwAsI/SE9hFugSsz9dLYzJujWiPwFKkVcCdYg/qN+wHBnGbT8zm5cYOoVZPw==\",\"dtype\":\"float64\",\"shape\":[20]}}},\"id\":\"96fe25c5-ed5b-4c44-ba5d-5f891a044e6a\",\"type\":\"ColumnDataSource\"},{\"attributes\":{},\"id\":\"4d87105e-718e-4ace-88c0-bde83eb75318\",\"type\":\"BasicTickFormatter\"},{\"attributes\":{\"below\":[{\"id\":\"a309a363-2e0f-497f-a4df-b0bb32b3520b\",\"type\":\"LinearAxis\"}],\"left\":[{\"id\":\"f3bca6ef-9d58-4c68-8e7c-e3d9f62545c4\",\"type\":\"LinearAxis\"}],\"plot_width\":400,\"renderers\":[{\"id\":\"a309a363-2e0f-497f-a4df-b0bb32b3520b\",\"type\":\"LinearAxis\"},{\"id\":\"9c0f4a32-934d-47d1-9239-26023fdde741\",\"type\":\"Grid\"},{\"id\":\"f3bca6ef-9d58-4c68-8e7c-e3d9f62545c4\",\"type\":\"LinearAxis\"},{\"id\":\"32fbdf78-a9a7-4e7e-8cce-e72d97c3006e\",\"type\":\"Grid\"},{\"id\":\"99db35cb-26c2-4a07-8ea8-52e8020648b9\",\"type\":\"BoxAnnotation\"},{\"id\":\"43f0411c-107f-433c-9dc2-127901acca3c\",\"type\":\"GlyphRenderer\"}],\"title\":{\"id\":\"bac0389d-2740-45f7-b40b-18144abfc158\",\"type\":\"Title\"},\"tool_events\":{\"id\":\"695146d8-4657-4802-8e03-a40c814df4dc\",\"type\":\"ToolEvents\"},\"toolbar\":{\"id\":\"888889c2-e28f-4678-8bd8-b2aa5ebb983e\",\"type\":\"Toolbar\"},\"toolbar_location\":null,\"x_range\":{\"id\":\"29ab159b-b51d-4f7e-a065-b9dc56681fd6\",\"type\":\"DataRange1d\"},\"x_scale\":{\"id\":\"4b2342e7-7fbc-4b40-a644-3fd51e759ca8\",\"type\":\"LinearScale\"},\"y_range\":{\"id\":\"8d6d56ee-2413-4aac-b4fa-027af401f4cf\",\"type\":\"DataRange1d\"},\"y_scale\":{\"id\":\"b401d516-0207-447e-8920-67b0350f9a9e\",\"type\":\"LinearScale\"}},\"id\":\"43b60638-bfb7-4557-becd-f5e45ac8ab65\",\"subtype\":\"Figure\",\"type\":\"Plot\"},{\"attributes\":{\"below\":[{\"id\":\"9daf262d-a88f-42d2-b948-52f69735e5aa\",\"type\":\"LinearAxis\"}],\"left\":[{\"id\":\"2d9e6697-40a0-407c-8f65-d5a83525313a\",\"type\":\"LinearAxis\"}],\"plot_width\":400,\"renderers\":[{\"id\":\"9daf262d-a88f-42d2-b948-52f69735e5aa\",\"type\":\"LinearAxis\"},{\"id\":\"fc18d054-492d-43ff-b224-c42552a02c71\",\"type\":\"Grid\"},{\"id\":\"2d9e6697-40a0-407c-8f65-d5a83525313a\",\"type\":\"LinearAxis\"},{\"id\":\"6ee73029-38c7-464b-87b3-86d319b2a2de\",\"type\":\"Grid\"},{\"id\":\"47df38e1-8346-4d95-a4fb-28d0844c95b2\",\"type\":\"BoxAnnotation\"},{\"id\":\"62fb1acf-48f5-482f-9225-b97b1eb54df2\",\"type\":\"GlyphRenderer\"}],\"title\":{\"id\":\"9e7c9a99-41d4-47e0-ad40-7c53da30adfc\",\"type\":\"Title\"},\"tool_events\":{\"id\":\"a2b62716-bbe9-48cc-9d25-fe7a963ccb65\",\"type\":\"ToolEvents\"},\"toolbar\":{\"id\":\"5e2a43e6-79dc-47d5-aca0-14cecc59e26f\",\"type\":\"Toolbar\"},\"toolbar_location\":null,\"x_range\":{\"id\":\"8ce07bb6-1e14-4976-90d4-f60057f8bcbd\",\"type\":\"DataRange1d\"},\"x_scale\":{\"id\":\"7a10e631-1040-49f3-8a38-161306741331\",\"type\":\"LinearScale\"},\"y_range\":{\"id\":\"c3ff65f6-9d3f-431c-8b71-f23a7f466dd5\",\"type\":\"DataRange1d\"},\"y_scale\":{\"id\":\"bfa63e0b-b72a-4938-aaa2-7d80b32128e5\",\"type\":\"LinearScale\"}},\"id\":\"59ccb2c7-8f92-4e58-923b-80b0fec7c3a9\",\"subtype\":\"Figure\",\"type\":\"Plot\"},{\"attributes\":{\"plot\":null,\"text\":\"norm_0_1\"},\"id\":\"9e7c9a99-41d4-47e0-ad40-7c53da30adfc\",\"type\":\"Title\"},{\"attributes\":{\"callback\":null},\"id\":\"8ce07bb6-1e14-4976-90d4-f60057f8bcbd\",\"type\":\"DataRange1d\"},{\"attributes\":{},\"id\":\"a2b62716-bbe9-48cc-9d25-fe7a963ccb65\",\"type\":\"ToolEvents\"},{\"attributes\":{\"active_drag\":\"auto\",\"active_inspect\":\"auto\",\"active_scroll\":\"auto\",\"active_tap\":\"auto\",\"tools\":[{\"id\":\"c713c71b-d062-4667-9b23-ebc348cb43d0\",\"type\":\"PanTool\"},{\"id\":\"30143699-fc50-4826-9899-8a66348475b1\",\"type\":\"WheelZoomTool\"},{\"id\":\"6b610584-3d3c-487e-a2e1-162c29b25a5a\",\"type\":\"BoxZoomTool\"},{\"id\":\"31b1c77a-fc95-4021-95fd-8ee6416d2e03\",\"type\":\"SaveTool\"},{\"id\":\"a837b300-fcf4-4255-b0e4-23545d3830a5\",\"type\":\"ResetTool\"},{\"id\":\"61798151-b49b-45af-9aa9-47e4b942d517\",\"type\":\"HelpTool\"}]},\"id\":\"5e2a43e6-79dc-47d5-aca0-14cecc59e26f\",\"type\":\"Toolbar\"},{\"attributes\":{},\"id\":\"695146d8-4657-4802-8e03-a40c814df4dc\",\"type\":\"ToolEvents\"},{\"attributes\":{},\"id\":\"7a10e631-1040-49f3-8a38-161306741331\",\"type\":\"LinearScale\"},{\"attributes\":{\"callback\":null},\"id\":\"c3ff65f6-9d3f-431c-8b71-f23a7f466dd5\",\"type\":\"DataRange1d\"},{\"attributes\":{},\"id\":\"bfa63e0b-b72a-4938-aaa2-7d80b32128e5\",\"type\":\"LinearScale\"},{\"attributes\":{\"callback\":null},\"id\":\"29ab159b-b51d-4f7e-a065-b9dc56681fd6\",\"type\":\"DataRange1d\"},{\"attributes\":{\"axis_label\":\"x\",\"formatter\":{\"id\":\"95b4343b-5dc6-4823-a72d-e1756bcded23\",\"type\":\"BasicTickFormatter\"},\"plot\":{\"id\":\"59ccb2c7-8f92-4e58-923b-80b0fec7c3a9\",\"subtype\":\"Figure\",\"type\":\"Plot\"},\"ticker\":{\"id\":\"8b57667b-07c2-49a5-9d7e-fc9b4d7bcbb8\",\"type\":\"BasicTicker\"}},\"id\":\"9daf262d-a88f-42d2-b948-52f69735e5aa\",\"type\":\"LinearAxis\"},{\"attributes\":{},\"id\":\"8b57667b-07c2-49a5-9d7e-fc9b4d7bcbb8\",\"type\":\"BasicTicker\"},{\"attributes\":{\"plot\":{\"id\":\"59ccb2c7-8f92-4e58-923b-80b0fec7c3a9\",\"subtype\":\"Figure\",\"type\":\"Plot\"},\"ticker\":{\"id\":\"8b57667b-07c2-49a5-9d7e-fc9b4d7bcbb8\",\"type\":\"BasicTicker\"}},\"id\":\"fc18d054-492d-43ff-b224-c42552a02c71\",\"type\":\"Grid\"},{\"attributes\":{\"axis_label\":\"Pr(x)\",\"formatter\":{\"id\":\"4d87105e-718e-4ace-88c0-bde83eb75318\",\"type\":\"BasicTickFormatter\"},\"plot\":{\"id\":\"59ccb2c7-8f92-4e58-923b-80b0fec7c3a9\",\"subtype\":\"Figure\",\"type\":\"Plot\"},\"ticker\":{\"id\":\"c2988e9b-9971-41e5-b668-d55f208ae2e3\",\"type\":\"BasicTicker\"}},\"id\":\"2d9e6697-40a0-407c-8f65-d5a83525313a\",\"type\":\"LinearAxis\"},{\"attributes\":{},\"id\":\"c2988e9b-9971-41e5-b668-d55f208ae2e3\",\"type\":\"BasicTicker\"},{\"attributes\":{\"dimension\":1,\"plot\":{\"id\":\"59ccb2c7-8f92-4e58-923b-80b0fec7c3a9\",\"subtype\":\"Figure\",\"type\":\"Plot\"},\"ticker\":{\"id\":\"c2988e9b-9971-41e5-b668-d55f208ae2e3\",\"type\":\"BasicTicker\"}},\"id\":\"6ee73029-38c7-464b-87b3-86d319b2a2de\",\"type\":\"Grid\"},{\"attributes\":{\"bottom_units\":\"screen\",\"fill_alpha\":{\"value\":0.5},\"fill_color\":{\"value\":\"lightgrey\"},\"left_units\":\"screen\",\"level\":\"overlay\",\"line_alpha\":{\"value\":1.0},\"line_color\":{\"value\":\"black\"},\"line_dash\":[4,4],\"line_width\":{\"value\":2},\"plot\":null,\"render_mode\":\"css\",\"right_units\":\"screen\",\"top_units\":\"screen\"},\"id\":\"47df38e1-8346-4d95-a4fb-28d0844c95b2\",\"type\":\"BoxAnnotation\"},{\"attributes\":{\"plot\":{\"id\":\"59ccb2c7-8f92-4e58-923b-80b0fec7c3a9\",\"subtype\":\"Figure\",\"type\":\"Plot\"}},\"id\":\"c713c71b-d062-4667-9b23-ebc348cb43d0\",\"type\":\"PanTool\"},{\"attributes\":{},\"id\":\"6719bb67-3b4f-4ee1-8189-e13cbbb366d7\",\"type\":\"BasicTickFormatter\"},{\"attributes\":{\"plot\":{\"id\":\"59ccb2c7-8f92-4e58-923b-80b0fec7c3a9\",\"subtype\":\"Figure\",\"type\":\"Plot\"}},\"id\":\"30143699-fc50-4826-9899-8a66348475b1\",\"type\":\"WheelZoomTool\"},{\"attributes\":{\"overlay\":{\"id\":\"47df38e1-8346-4d95-a4fb-28d0844c95b2\",\"type\":\"BoxAnnotation\"},\"plot\":{\"id\":\"59ccb2c7-8f92-4e58-923b-80b0fec7c3a9\",\"subtype\":\"Figure\",\"type\":\"Plot\"}},\"id\":\"6b610584-3d3c-487e-a2e1-162c29b25a5a\",\"type\":\"BoxZoomTool\"},{\"attributes\":{\"plot\":{\"id\":\"59ccb2c7-8f92-4e58-923b-80b0fec7c3a9\",\"subtype\":\"Figure\",\"type\":\"Plot\"}},\"id\":\"31b1c77a-fc95-4021-95fd-8ee6416d2e03\",\"type\":\"SaveTool\"},{\"attributes\":{\"plot\":{\"id\":\"59ccb2c7-8f92-4e58-923b-80b0fec7c3a9\",\"subtype\":\"Figure\",\"type\":\"Plot\"}},\"id\":\"a837b300-fcf4-4255-b0e4-23545d3830a5\",\"type\":\"ResetTool\"},{\"attributes\":{\"plot\":{\"id\":\"59ccb2c7-8f92-4e58-923b-80b0fec7c3a9\",\"subtype\":\"Figure\",\"type\":\"Plot\"}},\"id\":\"61798151-b49b-45af-9aa9-47e4b942d517\",\"type\":\"HelpTool\"},{\"attributes\":{},\"id\":\"9b1598bb-3138-43a4-a334-f47b49103cdd\",\"type\":\"BasicTickFormatter\"},{\"attributes\":{\"plot\":null,\"text\":\"norm_1_1\"},\"id\":\"bac0389d-2740-45f7-b40b-18144abfc158\",\"type\":\"Title\"},{\"attributes\":{\"active_drag\":\"auto\",\"active_inspect\":\"auto\",\"active_scroll\":\"auto\",\"active_tap\":\"auto\",\"tools\":[{\"id\":\"00ec10a9-c35c-467d-847e-f80d9e8688a8\",\"type\":\"PanTool\"},{\"id\":\"66d7dd0f-4122-4508-8163-6b6084710c5b\",\"type\":\"WheelZoomTool\"},{\"id\":\"9d64604d-4802-4ca5-9c68-18c00445fa86\",\"type\":\"BoxZoomTool\"},{\"id\":\"432b323a-14f3-4eeb-b475-f4014c94a8bf\",\"type\":\"SaveTool\"},{\"id\":\"b49949c4-af32-4693-807e-aad2eceecd10\",\"type\":\"ResetTool\"},{\"id\":\"204e6fbd-7ae1-4b04-bec0-90fc466104bf\",\"type\":\"HelpTool\"}]},\"id\":\"888889c2-e28f-4678-8bd8-b2aa5ebb983e\",\"type\":\"Toolbar\"},{\"attributes\":{\"bottom\":{\"value\":0},\"fill_color\":{\"value\":\"#036564\"},\"left\":{\"field\":\"left\"},\"line_color\":{\"value\":\"#033649\"},\"right\":{\"field\":\"right\"},\"top\":{\"field\":\"top\"}},\"id\":\"99d70ea6-c7c7-4247-88d8-0a71697dfc52\",\"type\":\"Quad\"},{\"attributes\":{},\"id\":\"4b2342e7-7fbc-4b40-a644-3fd51e759ca8\",\"type\":\"LinearScale\"},{\"attributes\":{\"callback\":null},\"id\":\"8d6d56ee-2413-4aac-b4fa-027af401f4cf\",\"type\":\"DataRange1d\"},{\"attributes\":{},\"id\":\"b401d516-0207-447e-8920-67b0350f9a9e\",\"type\":\"LinearScale\"},{\"attributes\":{\"plot\":{\"id\":\"43b60638-bfb7-4557-becd-f5e45ac8ab65\",\"subtype\":\"Figure\",\"type\":\"Plot\"},\"ticker\":{\"id\":\"d071ed64-789e-4de6-8f90-42b11a9b60f8\",\"type\":\"BasicTicker\"}},\"id\":\"9c0f4a32-934d-47d1-9239-26023fdde741\",\"type\":\"Grid\"},{\"attributes\":{\"axis_label\":\"x\",\"formatter\":{\"id\":\"9b1598bb-3138-43a4-a334-f47b49103cdd\",\"type\":\"BasicTickFormatter\"},\"plot\":{\"id\":\"43b60638-bfb7-4557-becd-f5e45ac8ab65\",\"subtype\":\"Figure\",\"type\":\"Plot\"},\"ticker\":{\"id\":\"d071ed64-789e-4de6-8f90-42b11a9b60f8\",\"type\":\"BasicTicker\"}},\"id\":\"a309a363-2e0f-497f-a4df-b0bb32b3520b\",\"type\":\"LinearAxis\"},{\"attributes\":{},\"id\":\"d071ed64-789e-4de6-8f90-42b11a9b60f8\",\"type\":\"BasicTicker\"},{\"attributes\":{\"axis_label\":\"Pr(x)\",\"formatter\":{\"id\":\"6719bb67-3b4f-4ee1-8189-e13cbbb366d7\",\"type\":\"BasicTickFormatter\"},\"plot\":{\"id\":\"43b60638-bfb7-4557-becd-f5e45ac8ab65\",\"subtype\":\"Figure\",\"type\":\"Plot\"},\"ticker\":{\"id\":\"894be3fd-37b5-4ced-8792-796666b3adf8\",\"type\":\"BasicTicker\"}},\"id\":\"f3bca6ef-9d58-4c68-8e7c-e3d9f62545c4\",\"type\":\"LinearAxis\"},{\"attributes\":{},\"id\":\"894be3fd-37b5-4ced-8792-796666b3adf8\",\"type\":\"BasicTicker\"},{\"attributes\":{\"dimension\":1,\"plot\":{\"id\":\"43b60638-bfb7-4557-becd-f5e45ac8ab65\",\"subtype\":\"Figure\",\"type\":\"Plot\"},\"ticker\":{\"id\":\"894be3fd-37b5-4ced-8792-796666b3adf8\",\"type\":\"BasicTicker\"}},\"id\":\"32fbdf78-a9a7-4e7e-8cce-e72d97c3006e\",\"type\":\"Grid\"},{\"attributes\":{\"bottom\":{\"value\":0},\"fill_alpha\":{\"value\":0.1},\"fill_color\":{\"value\":\"#1f77b4\"},\"left\":{\"field\":\"left\"},\"line_alpha\":{\"value\":0.1},\"line_color\":{\"value\":\"#1f77b4\"},\"right\":{\"field\":\"right\"},\"top\":{\"field\":\"top\"}},\"id\":\"991105c7-49a6-46fe-a228-9af8a41a037c\",\"type\":\"Quad\"},{\"attributes\":{\"children\":[{\"id\":\"c8f8d121-b579-4fa5-af37-be256b6b06e6\",\"subtype\":\"Figure\",\"type\":\"Plot\"}]},\"id\":\"4a09531c-6cdb-469a-90d1-f7ca949f2d17\",\"type\":\"Row\"},{\"attributes\":{\"bottom\":{\"value\":0},\"fill_color\":{\"value\":\"#036564\"},\"left\":{\"field\":\"left\"},\"line_color\":{\"value\":\"#033649\"},\"right\":{\"field\":\"right\"},\"top\":{\"field\":\"top\"}},\"id\":\"cc2c9a92-f703-4dcc-80fe-613296584508\",\"type\":\"Quad\"},{\"attributes\":{\"below\":[{\"id\":\"153f65f6-e881-4adb-9fad-f0d9ae4647b1\",\"type\":\"LinearAxis\"}],\"left\":[{\"id\":\"a6712d9d-b9b8-457e-949f-d71b91306cd5\",\"type\":\"LinearAxis\"}],\"plot_width\":400,\"renderers\":[{\"id\":\"153f65f6-e881-4adb-9fad-f0d9ae4647b1\",\"type\":\"LinearAxis\"},{\"id\":\"916b87f9-c0bd-4d32-933b-f28459026b26\",\"type\":\"Grid\"},{\"id\":\"a6712d9d-b9b8-457e-949f-d71b91306cd5\",\"type\":\"LinearAxis\"},{\"id\":\"a89af67e-df32-44d4-bba9-85d8af9dcedc\",\"type\":\"Grid\"},{\"id\":\"2bb58d4f-47f0-421a-aaf5-4de72b995977\",\"type\":\"BoxAnnotation\"},{\"id\":\"7502c94d-71bc-49d3-ac08-4df6772ec70d\",\"type\":\"GlyphRenderer\"}],\"title\":{\"id\":\"04adf4c9-78f4-4efc-b6a1-5579d1fb7379\",\"type\":\"Title\"},\"tool_events\":{\"id\":\"bda9239f-3bd3-4327-863e-eef59ef09962\",\"type\":\"ToolEvents\"},\"toolbar\":{\"id\":\"de598672-1784-45ec-9ffb-31aee72c8344\",\"type\":\"Toolbar\"},\"toolbar_location\":null,\"x_range\":{\"id\":\"8cee026d-340a-4a80-af6e-c2d3f4fc0a02\",\"type\":\"DataRange1d\"},\"x_scale\":{\"id\":\"07d97be8-01a7-4ce9-b07b-994e8018de4c\",\"type\":\"LinearScale\"},\"y_range\":{\"id\":\"996ab617-7f4e-4cc2-ac1e-4809696fc8ad\",\"type\":\"DataRange1d\"},\"y_scale\":{\"id\":\"5d4bb855-c104-4688-8f24-fad0b82fd5c8\",\"type\":\"LinearScale\"}},\"id\":\"c8f8d121-b579-4fa5-af37-be256b6b06e6\",\"subtype\":\"Figure\",\"type\":\"Plot\"},{\"attributes\":{\"data_source\":{\"id\":\"96fe25c5-ed5b-4c44-ba5d-5f891a044e6a\",\"type\":\"ColumnDataSource\"},\"glyph\":{\"id\":\"99d70ea6-c7c7-4247-88d8-0a71697dfc52\",\"type\":\"Quad\"},\"hover_glyph\":null,\"muted_glyph\":null,\"nonselection_glyph\":{\"id\":\"991105c7-49a6-46fe-a228-9af8a41a037c\",\"type\":\"Quad\"},\"selection_glyph\":null},\"id\":\"43f0411c-107f-433c-9dc2-127901acca3c\",\"type\":\"GlyphRenderer\"},{\"attributes\":{\"plot\":{\"id\":\"43b60638-bfb7-4557-becd-f5e45ac8ab65\",\"subtype\":\"Figure\",\"type\":\"Plot\"}},\"id\":\"00ec10a9-c35c-467d-847e-f80d9e8688a8\",\"type\":\"PanTool\"},{\"attributes\":{\"plot\":{\"id\":\"43b60638-bfb7-4557-becd-f5e45ac8ab65\",\"subtype\":\"Figure\",\"type\":\"Plot\"}},\"id\":\"432b323a-14f3-4eeb-b475-f4014c94a8bf\",\"type\":\"SaveTool\"},{\"attributes\":{\"plot\":{\"id\":\"43b60638-bfb7-4557-becd-f5e45ac8ab65\",\"subtype\":\"Figure\",\"type\":\"Plot\"}},\"id\":\"66d7dd0f-4122-4508-8163-6b6084710c5b\",\"type\":\"WheelZoomTool\"},{\"attributes\":{\"overlay\":{\"id\":\"99db35cb-26c2-4a07-8ea8-52e8020648b9\",\"type\":\"BoxAnnotation\"},\"plot\":{\"id\":\"43b60638-bfb7-4557-becd-f5e45ac8ab65\",\"subtype\":\"Figure\",\"type\":\"Plot\"}},\"id\":\"9d64604d-4802-4ca5-9c68-18c00445fa86\",\"type\":\"BoxZoomTool\"}],\"root_ids\":[\"93b06343-9100-4fe3-9688-76972471556c\"]},\"title\":\"Bokeh Application\",\"version\":\"0.12.6\"}};\n",
       "            var render_items = [{\"docid\":\"8043f8ef-e073-4f43-8b56-51b2f49e6b1f\",\"elementid\":\"3a9225a3-28b9-4f77-bfff-faf078b8be12\",\"modelid\":\"93b06343-9100-4fe3-9688-76972471556c\"}];\n",
       "            \n",
       "            Bokeh.embed.embed_items(docs_json, render_items);\n",
       "          };\n",
       "          if (document.readyState != \"loading\") fn();\n",
       "          else document.addEventListener(\"DOMContentLoaded\", fn);\n",
       "        })();\n",
       "      },\n",
       "      function(Bokeh) {\n",
       "      }\n",
       "    ];\n",
       "  \n",
       "    function run_inline_js() {\n",
       "      \n",
       "      if ((window.Bokeh !== undefined) || (force === true)) {\n",
       "        for (var i = 0; i < inline_js.length; i++) {\n",
       "          inline_js[i](window.Bokeh);\n",
       "        }if (force === true) {\n",
       "          display_loaded();\n",
       "        }} else if (Date.now() < window._bokeh_timeout) {\n",
       "        setTimeout(run_inline_js, 100);\n",
       "      } else if (!window._bokeh_failed_load) {\n",
       "        console.log(\"Bokeh: BokehJS failed to load within specified timeout.\");\n",
       "        window._bokeh_failed_load = true;\n",
       "      } else if (force !== true) {\n",
       "        var cell = $(document.getElementById(\"3a9225a3-28b9-4f77-bfff-faf078b8be12\")).parents('.cell').data().cell;\n",
       "        cell.output_area.append_execute_result(NB_LOAD_WARNING)\n",
       "      }\n",
       "  \n",
       "    }\n",
       "  \n",
       "    if (window._bokeh_is_loading === 0) {\n",
       "      console.log(\"Bokeh: BokehJS loaded, going straight to plotting\");\n",
       "      run_inline_js();\n",
       "    } else {\n",
       "      load_libs(js_urls, function() {\n",
       "        console.log(\"Bokeh: BokehJS plotting callback run at\", now());\n",
       "        run_inline_js();\n",
       "      });\n",
       "    }\n",
       "  }(this));\n",
       "</script>"
      ]
     },
     "metadata": {},
     "output_type": "display_data"
    }
   ],
   "source": [
    "p1 = figure(title='norm_0_1')\n",
    "hist, edges = np.histogram(unreasonably_clean_data['norm_0_1'], density=True, bins=20)\n",
    "p1.quad(top=hist, bottom=0, left=edges[:-1], right=edges[1:],\n",
    "        fill_color=\"#036564\", line_color=\"#033649\")\n",
    "p1.xaxis.axis_label = 'x'\n",
    "p1.yaxis.axis_label = 'Pr(x)'\n",
    "\n",
    "p2 = figure(title='norm_1_1')\n",
    "hist, edges = np.histogram(unreasonably_clean_data['norm_1_1'], density=True, bins=20)\n",
    "p2.quad(top=hist, bottom=0, left=edges[:-1], right=edges[1:],\n",
    "        fill_color=\"#036564\", line_color=\"#033649\")\n",
    "p2.xaxis.axis_label = 'x'\n",
    "p2.yaxis.axis_label = 'Pr(x)'\n",
    "\n",
    "p3 = figure(title='bimodal')\n",
    "hist, edges = np.histogram(unreasonably_clean_data['bimodal'], density=True, bins=20)\n",
    "p3.quad(top=hist, bottom=0, left=edges[:-1], right=edges[1:],\n",
    "        fill_color=\"#036564\", line_color=\"#033649\")\n",
    "p3.xaxis.axis_label = 'x'\n",
    "p3.yaxis.axis_label = 'Pr(x)'\n",
    "\n",
    "show(gridplot(p1, p2, p3, ncols=2, plot_width=400))"
   ]
  },
  {
   "cell_type": "markdown",
   "metadata": {},
   "source": [
    "## Now, we *are* going to include statistical tests, but we're going to try to make lots of simplifying assumptions since we are oriented around ease of use.\n",
    "### First, a sanity check:\n",
    "\n",
    "Kolmogorov–Smirnov test should not reject null of same distribution for our $N(0,1)$ samples, and the 2-sample test *should* reject null for our $N(1,1)$ and $N(10,1)$ samples."
   ]
  },
  {
   "cell_type": "code",
   "execution_count": 8,
   "metadata": {
    "collapsed": true
   },
   "outputs": [],
   "source": [
    "#print(stats.ks_2samp(df['norm_0_1'], df['norm_0_1_b']))\n",
    "#print(stats.ks_2samp(np.random.choice(df['norm_0_1'], size=200), df['norm_0_1']))\n",
    "#print(stats.ks_2samp(np.random.choice(df['norm_0_1'], size=100), df['norm_0_1']))\n",
    "#print(stats.ks_2samp(np.random.choice(df['norm_0_1'], size=50), df['norm_0_1']))\n",
    "#print(stats.ks_2samp(df['norm_0_1'], df['norm_0_1']))\n",
    "#print(stats.ks_2samp(df['norm_0_1'], df['norm_1_1']))\n",
    "#print(stats.ks_2samp(df['norm_0_1'], df['norm_10_1']))"
   ]
  },
  {
   "cell_type": "markdown",
   "metadata": {},
   "source": [
    "### Next, let's make a simple nonparametric model of our data\n",
    "\n",
    "Our basic plan: build a kernel density estimate, evaluate it, and compare with new samples.\n",
    "\n",
    "We will use all defaults: the gaussian kernel and scott's rule for bandwidth."
   ]
  },
  {
   "cell_type": "code",
   "execution_count": 9,
   "metadata": {
    "collapsed": true
   },
   "outputs": [],
   "source": [
    "#kde = stats.kde.gaussian_kde(df['norm_0_1_1000'])"
   ]
  },
  {
   "cell_type": "code",
   "execution_count": 10,
   "metadata": {
    "collapsed": true
   },
   "outputs": [],
   "source": [
    "partition, cdf_vals = ge.util.kde_compress_data(unreasonably_clean_data['bimodal'])"
   ]
  },
  {
   "cell_type": "markdown",
   "metadata": {},
   "source": [
    "## Now, let's inspect the estimate."
   ]
  },
  {
   "cell_type": "code",
   "execution_count": 11,
   "metadata": {
    "collapsed": true
   },
   "outputs": [],
   "source": [
    "#x = np.arange(start=np.min(df['norm_0_1_1000']), stop= np.max(df['norm_0_1_1000']), step=kde.covariance_factor())\n",
    "#Y = kde.evaluate(x)\n",
    "#p1.line(x, Y, line_width = 2, line_alpha=0.8, legend=\"KDE\")\n",
    "#p1.legend.location = \"center_right\"\n",
    "#show(p1)"
   ]
  },
  {
   "cell_type": "code",
   "execution_count": 12,
   "metadata": {
    "collapsed": true
   },
   "outputs": [],
   "source": [
    "# Generate an empirical cdf for the given data\n",
    "def empirical_cdf(partition, data):\n",
    "    return [np.sum(data < x) / len(data) for x in partition]"
   ]
  },
  {
   "cell_type": "code",
   "execution_count": 13,
   "metadata": {},
   "outputs": [
    {
     "data": {
      "text/html": [
       "\n",
       "\n",
       "    <div class=\"bk-root\">\n",
       "        <div class=\"bk-plotdiv\" id=\"a3d29e39-6be2-4701-9360-a37cd15d4a9b\"></div>\n",
       "    </div>\n",
       "<script type=\"text/javascript\">\n",
       "  \n",
       "  (function(global) {\n",
       "    function now() {\n",
       "      return new Date();\n",
       "    }\n",
       "  \n",
       "    var force = false;\n",
       "  \n",
       "    if (typeof (window._bokeh_onload_callbacks) === \"undefined\" || force === true) {\n",
       "      window._bokeh_onload_callbacks = [];\n",
       "      window._bokeh_is_loading = undefined;\n",
       "    }\n",
       "  \n",
       "  \n",
       "    \n",
       "    if (typeof (window._bokeh_timeout) === \"undefined\" || force === true) {\n",
       "      window._bokeh_timeout = Date.now() + 0;\n",
       "      window._bokeh_failed_load = false;\n",
       "    }\n",
       "  \n",
       "    var NB_LOAD_WARNING = {'data': {'text/html':\n",
       "       \"<div style='background-color: #fdd'>\\n\"+\n",
       "       \"<p>\\n\"+\n",
       "       \"BokehJS does not appear to have successfully loaded. If loading BokehJS from CDN, this \\n\"+\n",
       "       \"may be due to a slow or bad network connection. Possible fixes:\\n\"+\n",
       "       \"</p>\\n\"+\n",
       "       \"<ul>\\n\"+\n",
       "       \"<li>re-rerun `output_notebook()` to attempt to load from CDN again, or</li>\\n\"+\n",
       "       \"<li>use INLINE resources instead, as so:</li>\\n\"+\n",
       "       \"</ul>\\n\"+\n",
       "       \"<code>\\n\"+\n",
       "       \"from bokeh.resources import INLINE\\n\"+\n",
       "       \"output_notebook(resources=INLINE)\\n\"+\n",
       "       \"</code>\\n\"+\n",
       "       \"</div>\"}};\n",
       "  \n",
       "    function display_loaded() {\n",
       "      if (window.Bokeh !== undefined) {\n",
       "        var el = document.getElementById(\"a3d29e39-6be2-4701-9360-a37cd15d4a9b\");\n",
       "        el.textContent = \"BokehJS \" + Bokeh.version + \" successfully loaded.\";\n",
       "      } else if (Date.now() < window._bokeh_timeout) {\n",
       "        setTimeout(display_loaded, 100)\n",
       "      }\n",
       "    }\n",
       "  \n",
       "    function run_callbacks() {\n",
       "      try {\n",
       "        window._bokeh_onload_callbacks.forEach(function(callback) { callback() });\n",
       "      }\n",
       "      finally {\n",
       "        delete window._bokeh_onload_callbacks\n",
       "      }\n",
       "      console.info(\"Bokeh: all callbacks have finished\");\n",
       "    }\n",
       "  \n",
       "    function load_libs(js_urls, callback) {\n",
       "      window._bokeh_onload_callbacks.push(callback);\n",
       "      if (window._bokeh_is_loading > 0) {\n",
       "        console.log(\"Bokeh: BokehJS is being loaded, scheduling callback at\", now());\n",
       "        return null;\n",
       "      }\n",
       "      if (js_urls == null || js_urls.length === 0) {\n",
       "        run_callbacks();\n",
       "        return null;\n",
       "      }\n",
       "      console.log(\"Bokeh: BokehJS not loaded, scheduling load and callback at\", now());\n",
       "      window._bokeh_is_loading = js_urls.length;\n",
       "      for (var i = 0; i < js_urls.length; i++) {\n",
       "        var url = js_urls[i];\n",
       "        var s = document.createElement('script');\n",
       "        s.src = url;\n",
       "        s.async = false;\n",
       "        s.onreadystatechange = s.onload = function() {\n",
       "          window._bokeh_is_loading--;\n",
       "          if (window._bokeh_is_loading === 0) {\n",
       "            console.log(\"Bokeh: all BokehJS libraries loaded\");\n",
       "            run_callbacks()\n",
       "          }\n",
       "        };\n",
       "        s.onerror = function() {\n",
       "          console.warn(\"failed to load library \" + url);\n",
       "        };\n",
       "        console.log(\"Bokeh: injecting script tag for BokehJS library: \", url);\n",
       "        document.getElementsByTagName(\"head\")[0].appendChild(s);\n",
       "      }\n",
       "    };var element = document.getElementById(\"a3d29e39-6be2-4701-9360-a37cd15d4a9b\");\n",
       "    if (element == null) {\n",
       "      console.log(\"Bokeh: ERROR: autoload.js configured with elementid 'a3d29e39-6be2-4701-9360-a37cd15d4a9b' but no matching script tag was found. \")\n",
       "      return false;\n",
       "    }\n",
       "  \n",
       "    var js_urls = [];\n",
       "  \n",
       "    var inline_js = [\n",
       "      function(Bokeh) {\n",
       "        (function() {\n",
       "          var fn = function() {\n",
       "            var docs_json = {\"05f51a88-54a4-406d-86f2-31191d0928a0\":{\"roots\":{\"references\":[{\"attributes\":{\"callback\":null,\"column_names\":[\"x\",\"y\"],\"data\":{\"x\":{\"__ndarray__\":\"IAoJ7g0oCsDpnrHhd+MIwLIzWtXhngfAe8gCyUtaBsBEXau8tRUFwA3yU7Af0QPA1ob8o4mMAsCfG6WX80cBwGiwTYtdAwDAYors/Y59/b/0sz3lYvT6v4bdjsw2a/i/GAfgswri9b+qMDGb3ljzvzxagoKyz/C/nAen0wyN7L/AWkmitHrnv+St63BcaOK/EAIcfwis2r9YqGAcWIfQv4A6leaeirm/wFiwSEUQrj+gyaIXcs3LP4i+jG5pC9g/IAyk6AwY4T/8uAEaZSrmP9hlX0u9POs/WIlevoon8D/IXw3XtrDyPzg2vO/iOfU/pAxrCA/D9z8Q4xkhO0z6P4C5yDln1fw/8I93UpNe/z8uM5O13/MAQGSe6sF1OAJAnAlCzgt9A0DUdJnaocEEQArg8OY3BgZAQEtI881KB0B4tp//Y48IQLAh9wv60wlA5oxOGJAYC0Ac+KUkJl0MQFRj/TC8oQ1AjM5UPVLmDkDhHNYkdBUQQHzSASu/txBAGIgtMQpaEUC0PVk3VfwRQE/zhD2gnhJA6qiwQ+tAE0CGXtxJNuMTQCIUCFCBhRRAvMkzVswnFUBYf19cF8oVQPQ0i2JibBZAkOq2aK0OF0AsoOJu+LAXQMZVDnVDUxhAYgs6e471GED+wGWB2ZcZQJh2kYckOhpANCy9jW/cGkDQ4eiTun4bQGyXFJoFIRxACE1AoFDDHECiAmymm2UdQD64l6zmBx5A2m3DsjGqHkB0I++4fEwfQBDZGr/H7h9AVkejYolIIEAkIrnlrpkgQPL8zmjU6iBAv9fk6/k7IUCNsvpuH40hQFuNEPJE3iFAKGgmdWovIkD2Qjz4j4AiQMQdUnu10SJAkvhn/toiI0Bg032BAHQjQC2ukwQmxSNA+4iph0sWJEDJY78KcWckQJY+1Y2WuCRAZBnrELwJJUAy9ACU4VolQADPFhcHrCVAzqksmiz9JUCbhEIdUk4mQGlfWKB3nyZANzpuI53wJkAEFYSmwkEnQNLvmSnokidAoMqvrA3kJ0BupcUvMzUoQDyA27JYhihACVvxNX7XKEDXNQe5oygpQKQQHTzJeSlAcusyv+7KKUBAxkhCFBwqQA6hXsU5bSpA3Ht0SF++KkCqVorLhA8rQHgxoE6qYCtA\",\"dtype\":\"float64\",\"shape\":[108]},\"y\":[0.0,0.0001,0.0008,0.0012,0.0017,0.0039,0.0057,0.0085,0.0122,0.0168,0.0241,0.0315,0.0427,0.0564,0.0751,0.0957,0.1202,0.1441,0.1718,0.2025,0.2331,0.2644,0.2958,0.3248,0.3524,0.3773,0.4007,0.4218,0.44,0.4551,0.4673,0.4768,0.4828,0.4885,0.4916,0.4945,0.4956,0.4975,0.4986,0.4994,0.4997,0.4999,0.4999,0.4999,0.5,0.5,0.5,0.5,0.5,0.5,0.5,0.5,0.5,0.5,0.5,0.5,0.5,0.5,0.5,0.5,0.5,0.5001,0.5001,0.5004,0.5005,0.5009,0.5012,0.5023,0.5039,0.5057,0.5094,0.5127,0.5177,0.5251,0.5346,0.5482,0.5616,0.5763,0.5936,0.6159,0.64,0.6689,0.6992,0.7269,0.758,0.7891,0.8175,0.8486,0.8742,0.8976,0.9179,0.9351,0.9509,0.9647,0.974,0.9801,0.9861,0.9901,0.9928,0.9959,0.9976,0.9983,0.9991,0.9996,0.9998,0.9998,0.9998,0.9999]}},\"id\":\"446554ed-bc7b-4ad9-9403-eb68e01b3160\",\"type\":\"ColumnDataSource\"},{\"attributes\":{\"data_source\":{\"id\":\"446554ed-bc7b-4ad9-9403-eb68e01b3160\",\"type\":\"ColumnDataSource\"},\"glyph\":{\"id\":\"18a02c49-1440-4a79-bbb4-c5147e0455ff\",\"type\":\"Line\"},\"hover_glyph\":null,\"muted_glyph\":null,\"nonselection_glyph\":{\"id\":\"b8c88383-4af8-412d-b291-8bbb51e8f807\",\"type\":\"Line\"},\"selection_glyph\":null},\"id\":\"ff3b3f20-3b94-440e-a421-e35cdf24a0a7\",\"type\":\"GlyphRenderer\"},{\"attributes\":{\"callback\":null,\"column_names\":[\"x\",\"y\"],\"data\":{\"x\":{\"__ndarray__\":\"IAoJ7g0oCsDpnrHhd+MIwLIzWtXhngfAe8gCyUtaBsBEXau8tRUFwA3yU7Af0QPA1ob8o4mMAsCfG6WX80cBwGiwTYtdAwDAYors/Y59/b/0sz3lYvT6v4bdjsw2a/i/GAfgswri9b+qMDGb3ljzvzxagoKyz/C/nAen0wyN7L/AWkmitHrnv+St63BcaOK/EAIcfwis2r9YqGAcWIfQv4A6leaeirm/wFiwSEUQrj+gyaIXcs3LP4i+jG5pC9g/IAyk6AwY4T/8uAEaZSrmP9hlX0u9POs/WIlevoon8D/IXw3XtrDyPzg2vO/iOfU/pAxrCA/D9z8Q4xkhO0z6P4C5yDln1fw/8I93UpNe/z8uM5O13/MAQGSe6sF1OAJAnAlCzgt9A0DUdJnaocEEQArg8OY3BgZAQEtI881KB0B4tp//Y48IQLAh9wv60wlA5oxOGJAYC0Ac+KUkJl0MQFRj/TC8oQ1AjM5UPVLmDkDhHNYkdBUQQHzSASu/txBAGIgtMQpaEUC0PVk3VfwRQE/zhD2gnhJA6qiwQ+tAE0CGXtxJNuMTQCIUCFCBhRRAvMkzVswnFUBYf19cF8oVQPQ0i2JibBZAkOq2aK0OF0AsoOJu+LAXQMZVDnVDUxhAYgs6e471GED+wGWB2ZcZQJh2kYckOhpANCy9jW/cGkDQ4eiTun4bQGyXFJoFIRxACE1AoFDDHECiAmymm2UdQD64l6zmBx5A2m3DsjGqHkB0I++4fEwfQBDZGr/H7h9AVkejYolIIEAkIrnlrpkgQPL8zmjU6iBAv9fk6/k7IUCNsvpuH40hQFuNEPJE3iFAKGgmdWovIkD2Qjz4j4AiQMQdUnu10SJAkvhn/toiI0Bg032BAHQjQC2ukwQmxSNA+4iph0sWJEDJY78KcWckQJY+1Y2WuCRAZBnrELwJJUAy9ACU4VolQADPFhcHrCVAzqksmiz9JUCbhEIdUk4mQGlfWKB3nyZANzpuI53wJkAEFYSmwkEnQNLvmSnokidAoMqvrA3kJ0BupcUvMzUoQDyA27JYhihACVvxNX7XKEDXNQe5oygpQKQQHTzJeSlAcusyv+7KKUBAxkhCFBwqQA6hXsU5bSpA3Ht0SF++KkCqVorLhA8rQHgxoE6qYCtA\",\"dtype\":\"float64\",\"shape\":[108]},\"y\":[0.0,0.0,0.009259259259259259,0.009259259259259259,0.009259259259259259,0.018518518518518517,0.027777777777777776,0.027777777777777776,0.037037037037037035,0.037037037037037035,0.046296296296296294,0.06481481481481481,0.07407407407407407,0.10185185185185185,0.14814814814814814,0.1574074074074074,0.2037037037037037,0.2222222222222222,0.2222222222222222,0.25925925925925924,0.28703703703703703,0.32407407407407407,0.35185185185185186,0.37962962962962965,0.3888888888888889,0.39814814814814814,0.42592592592592593,0.4351851851851852,0.4537037037037037,0.46296296296296297,0.4722222222222222,0.4722222222222222,0.48148148148148145,0.49074074074074076,0.5,0.5,0.5,0.5,0.5092592592592593,0.5092592592592593,0.5092592592592593,0.5092592592592593,0.5092592592592593,0.5092592592592593,0.5092592592592593,0.5092592592592593,0.5092592592592593,0.5092592592592593,0.5092592592592593,0.5092592592592593,0.5092592592592593,0.5092592592592593,0.5092592592592593,0.5092592592592593,0.5092592592592593,0.5092592592592593,0.5092592592592593,0.5092592592592593,0.5092592592592593,0.5092592592592593,0.5092592592592593,0.5092592592592593,0.5092592592592593,0.5092592592592593,0.5092592592592593,0.5092592592592593,0.5092592592592593,0.5092592592592593,0.5092592592592593,0.5092592592592593,0.5185185185185185,0.5185185185185185,0.5185185185185185,0.5277777777777778,0.5277777777777778,0.5740740740740741,0.5925925925925926,0.6018518518518519,0.6018518518518519,0.6481481481481481,0.6759259259259259,0.6851851851851852,0.7314814814814815,0.7407407407407407,0.7592592592592593,0.8055555555555556,0.8333333333333334,0.8611111111111112,0.8888888888888888,0.9074074074074074,0.9074074074074074,0.9074074074074074,0.9166666666666666,0.9259259259259259,0.9351851851851852,0.9444444444444444,0.9537037037037037,0.9814814814814815,0.9907407407407407,0.9907407407407407,0.9907407407407407,1.0,1.0,1.0,1.0,1.0,1.0,1.0]}},\"id\":\"1cc5126d-52a2-4e5f-b0dd-45cd2d442b7e\",\"type\":\"ColumnDataSource\"},{\"attributes\":{\"callback\":null,\"column_names\":[\"x\",\"y\"],\"data\":{\"x\":{\"__ndarray__\":\"IAoJ7g0oCsDpnrHhd+MIwLIzWtXhngfAe8gCyUtaBsBEXau8tRUFwA3yU7Af0QPA1ob8o4mMAsCfG6WX80cBwGiwTYtdAwDAYors/Y59/b/0sz3lYvT6v4bdjsw2a/i/GAfgswri9b+qMDGb3ljzvzxagoKyz/C/nAen0wyN7L/AWkmitHrnv+St63BcaOK/EAIcfwis2r9YqGAcWIfQv4A6leaeirm/wFiwSEUQrj+gyaIXcs3LP4i+jG5pC9g/IAyk6AwY4T/8uAEaZSrmP9hlX0u9POs/WIlevoon8D/IXw3XtrDyPzg2vO/iOfU/pAxrCA/D9z8Q4xkhO0z6P4C5yDln1fw/8I93UpNe/z8uM5O13/MAQGSe6sF1OAJAnAlCzgt9A0DUdJnaocEEQArg8OY3BgZAQEtI881KB0B4tp//Y48IQLAh9wv60wlA5oxOGJAYC0Ac+KUkJl0MQFRj/TC8oQ1AjM5UPVLmDkDhHNYkdBUQQHzSASu/txBAGIgtMQpaEUC0PVk3VfwRQE/zhD2gnhJA6qiwQ+tAE0CGXtxJNuMTQCIUCFCBhRRAvMkzVswnFUBYf19cF8oVQPQ0i2JibBZAkOq2aK0OF0AsoOJu+LAXQMZVDnVDUxhAYgs6e471GED+wGWB2ZcZQJh2kYckOhpANCy9jW/cGkDQ4eiTun4bQGyXFJoFIRxACE1AoFDDHECiAmymm2UdQD64l6zmBx5A2m3DsjGqHkB0I++4fEwfQBDZGr/H7h9AVkejYolIIEAkIrnlrpkgQPL8zmjU6iBAv9fk6/k7IUCNsvpuH40hQFuNEPJE3iFAKGgmdWovIkD2Qjz4j4AiQMQdUnu10SJAkvhn/toiI0Bg032BAHQjQC2ukwQmxSNA+4iph0sWJEDJY78KcWckQJY+1Y2WuCRAZBnrELwJJUAy9ACU4VolQADPFhcHrCVAzqksmiz9JUCbhEIdUk4mQGlfWKB3nyZANzpuI53wJkAEFYSmwkEnQNLvmSnokidAoMqvrA3kJ0BupcUvMzUoQDyA27JYhihACVvxNX7XKEDXNQe5oygpQKQQHTzJeSlAcusyv+7KKUBAxkhCFBwqQA6hXsU5bSpA3Ht0SF++KkCqVorLhA8rQHgxoE6qYCtA\",\"dtype\":\"float64\",\"shape\":[108]},\"y\":[0.002763908995540613,0.003932959659987655,0.005505216023531724,0.007586301748290256,0.010298787463958032,0.013781490477635418,0.018187324392008073,0.023679368711981005,0.03042495545023839,0.038587779001022816,0.0483183052531288,0.05974304389820475,0.07295350070905852,0.08799579307322807,0.1048619568605485,0.12348388447248608,0.14373062614221604,0.16540949130680793,0.18827104538218922,0.21201775134399944,0.23631569228662277,0.26080856084755866,0.28513293621835395,0.3089338016365062,0.3318792846608399,0.3536737158978496,0.37406827551554694,0.39286870348864755,0.4099397660387047,0.4252063839498319,0.43865153480062347,0.4503112409651757,0.4602671445124024,0.46863733491996135,0.47556621242629626,0.4812142131970516,0.48574817498137135,0.489332983772694,0.4921249340251966,0.4942669943179558,0.4958859401120896,0.4970911325690007,0.49797460934029314,0.498612113307076,0.49906470603580366,0.4993806726758016,0.49959750124043384,0.4997437934857491,0.49984102628871785,0.4999051281778455,0.49994786713438316,0.4999780668020371,0.5000026825995733,0.5000277794567651,0.5000594600346281,0.5001047962310312,0.5001728167365614,0.5002755983864229,0.50042949811356,0.5006565447782659,0.5009859857992476,0.5014559527157714,0.5021151737481506,0.5030246223024472,0.504258951633176,0.5059075322708819,0.5080748860125954,0.51088030393781,0.5144564503028163,0.5189467907316957,0.5245017400326571,0.5312734981994499,0.5394096289448448,0.5490455324002596,0.5602960744457257,0.5732467615490877,0.5879449880071499,0.6043920161232335,0.6225364494743448,0.6422699872086629,0.6634261694906244,0.6857826253590656,0.7090670272870917,0.7329665833132769,0.7571405182796008,0.7812346733825082,0.8048971368575166,0.8277937328144822,0.8496222388329817,0.8701243549594588,0.8890946762783085,0.9063861964700344,0.921912163535165,0.9356443994677535,0.9476084644969703,0.9578762748299329,0.9665569504320558,0.973786756883846,0.9797189996344012,0.9845146295217202,0.9883341412083868,0.9913311223410614,0.9936475802948768,0.9954109730276602,0.9967327271898665,0.9977079498178538,0.9984160230463182,0.9989217968901443]}},\"id\":\"b51e34e6-a3dc-441f-9d9a-27c64ba1f5ce\",\"type\":\"ColumnDataSource\"},{\"attributes\":{\"label\":{\"value\":\"Sampled Empirical CDF\"},\"renderers\":[{\"id\":\"9f8aba85-a20a-4946-9c68-24828d77e599\",\"type\":\"GlyphRenderer\"}]},\"id\":\"e9d33cd1-7a80-4e2a-bbb9-371164e13504\",\"type\":\"LegendItem\"},{\"attributes\":{\"line_alpha\":{\"value\":0.1},\"line_color\":{\"value\":\"#1f77b4\"},\"line_width\":{\"value\":2},\"x\":{\"field\":\"x\"},\"y\":{\"field\":\"y\"}},\"id\":\"b8c88383-4af8-412d-b291-8bbb51e8f807\",\"type\":\"Line\"},{\"attributes\":{\"line_alpha\":{\"value\":0.8},\"line_color\":{\"value\":\"green\"},\"line_width\":{\"value\":2},\"x\":{\"field\":\"x\"},\"y\":{\"field\":\"y\"}},\"id\":\"e46cd356-581a-4a00-8fc3-23e107fb1fee\",\"type\":\"Line\"},{\"attributes\":{\"line_alpha\":{\"value\":0.1},\"line_color\":{\"value\":\"#1f77b4\"},\"line_width\":{\"value\":2},\"x\":{\"field\":\"x\"},\"y\":{\"field\":\"y\"}},\"id\":\"7aa4b742-8484-44b9-9c32-21e511f2f232\",\"type\":\"Line\"},{\"attributes\":{\"data_source\":{\"id\":\"1cc5126d-52a2-4e5f-b0dd-45cd2d442b7e\",\"type\":\"ColumnDataSource\"},\"glyph\":{\"id\":\"e46cd356-581a-4a00-8fc3-23e107fb1fee\",\"type\":\"Line\"},\"hover_glyph\":null,\"muted_glyph\":null,\"nonselection_glyph\":{\"id\":\"7aa4b742-8484-44b9-9c32-21e511f2f232\",\"type\":\"Line\"},\"selection_glyph\":null},\"id\":\"9f8aba85-a20a-4946-9c68-24828d77e599\",\"type\":\"GlyphRenderer\"},{\"attributes\":{\"label\":{\"value\":\"Empirical CDF\"},\"renderers\":[{\"id\":\"ff3b3f20-3b94-440e-a421-e35cdf24a0a7\",\"type\":\"GlyphRenderer\"}]},\"id\":\"c8c011c5-0a71-48ea-8e5a-14ae804e2625\",\"type\":\"LegendItem\"},{\"attributes\":{},\"id\":\"5a78f645-3e7d-4dd3-ba78-e4aa8f8e18d0\",\"type\":\"BasicTicker\"},{\"attributes\":{\"data_source\":{\"id\":\"b51e34e6-a3dc-441f-9d9a-27c64ba1f5ce\",\"type\":\"ColumnDataSource\"},\"glyph\":{\"id\":\"6aa145f3-45d3-41bd-9eee-0fecf369b6c5\",\"type\":\"Line\"},\"hover_glyph\":null,\"muted_glyph\":null,\"nonselection_glyph\":{\"id\":\"2f471587-f348-4b5b-985f-c96c45bec0e2\",\"type\":\"Line\"},\"selection_glyph\":null},\"id\":\"9bd8a7e3-ea36-4c02-a46d-4883ccf5e070\",\"type\":\"GlyphRenderer\"},{\"attributes\":{\"label\":{\"value\":\"Estimated CDF\"},\"renderers\":[{\"id\":\"9bd8a7e3-ea36-4c02-a46d-4883ccf5e070\",\"type\":\"GlyphRenderer\"}]},\"id\":\"b57b53a1-2a0f-4b3d-9840-31f5054eda62\",\"type\":\"LegendItem\"},{\"attributes\":{\"plot\":null,\"text\":\"cdf\"},\"id\":\"8b5c6bc8-2b00-4d1e-8295-dc74a971387f\",\"type\":\"Title\"},{\"attributes\":{\"below\":[{\"id\":\"529700f4-374d-4a43-b66c-95012979b0d2\",\"type\":\"LinearAxis\"}],\"left\":[{\"id\":\"22e7ae3d-0a84-4b0d-8e21-fb75d6c67600\",\"type\":\"LinearAxis\"}],\"renderers\":[{\"id\":\"529700f4-374d-4a43-b66c-95012979b0d2\",\"type\":\"LinearAxis\"},{\"id\":\"26e6843c-711f-456f-a168-8a8d57e6d41e\",\"type\":\"Grid\"},{\"id\":\"22e7ae3d-0a84-4b0d-8e21-fb75d6c67600\",\"type\":\"LinearAxis\"},{\"id\":\"5ff83d6d-f4b7-41a9-85a7-d4be9637ced3\",\"type\":\"Grid\"},{\"id\":\"43e44ac7-bc42-4625-a2cc-46f7ebbb03bb\",\"type\":\"BoxAnnotation\"},{\"id\":\"ca477fe1-7c38-489a-a6ce-4d4732e50f47\",\"type\":\"Legend\"},{\"id\":\"9bd8a7e3-ea36-4c02-a46d-4883ccf5e070\",\"type\":\"GlyphRenderer\"},{\"id\":\"ff3b3f20-3b94-440e-a421-e35cdf24a0a7\",\"type\":\"GlyphRenderer\"},{\"id\":\"9f8aba85-a20a-4946-9c68-24828d77e599\",\"type\":\"GlyphRenderer\"}],\"title\":{\"id\":\"8b5c6bc8-2b00-4d1e-8295-dc74a971387f\",\"type\":\"Title\"},\"tool_events\":{\"id\":\"bebc0112-12a1-4ae6-ad61-df85fae67f56\",\"type\":\"ToolEvents\"},\"toolbar\":{\"id\":\"62085554-aee8-484b-962a-ad0f48033971\",\"type\":\"Toolbar\"},\"x_range\":{\"id\":\"cf21a28a-9c14-4403-b34f-1ae2221aac9f\",\"type\":\"DataRange1d\"},\"x_scale\":{\"id\":\"365f7f3f-53f1-441d-a38c-4ec847a6955a\",\"type\":\"LinearScale\"},\"y_range\":{\"id\":\"94e87299-2f7a-4519-b64e-34f515709c1c\",\"type\":\"DataRange1d\"},\"y_scale\":{\"id\":\"648035d1-ccc7-4b2e-8627-184a11ced92c\",\"type\":\"LinearScale\"}},\"id\":\"b7b2eec5-534d-4ff1-9901-a3df89f38efd\",\"subtype\":\"Figure\",\"type\":\"Plot\"},{\"attributes\":{},\"id\":\"bebc0112-12a1-4ae6-ad61-df85fae67f56\",\"type\":\"ToolEvents\"},{\"attributes\":{\"callback\":null},\"id\":\"94e87299-2f7a-4519-b64e-34f515709c1c\",\"type\":\"DataRange1d\"},{\"attributes\":{\"line_alpha\":{\"value\":0.1},\"line_color\":{\"value\":\"#1f77b4\"},\"line_width\":{\"value\":2},\"x\":{\"field\":\"x\"},\"y\":{\"field\":\"y\"}},\"id\":\"2f471587-f348-4b5b-985f-c96c45bec0e2\",\"type\":\"Line\"},{\"attributes\":{},\"id\":\"149a1170-e136-4ac9-9ded-ef922f3b7882\",\"type\":\"BasicTicker\"},{\"attributes\":{\"plot\":{\"id\":\"b7b2eec5-534d-4ff1-9901-a3df89f38efd\",\"subtype\":\"Figure\",\"type\":\"Plot\"},\"ticker\":{\"id\":\"5a78f645-3e7d-4dd3-ba78-e4aa8f8e18d0\",\"type\":\"BasicTicker\"}},\"id\":\"26e6843c-711f-456f-a168-8a8d57e6d41e\",\"type\":\"Grid\"},{\"attributes\":{\"dimension\":1,\"plot\":{\"id\":\"b7b2eec5-534d-4ff1-9901-a3df89f38efd\",\"subtype\":\"Figure\",\"type\":\"Plot\"},\"ticker\":{\"id\":\"149a1170-e136-4ac9-9ded-ef922f3b7882\",\"type\":\"BasicTicker\"}},\"id\":\"5ff83d6d-f4b7-41a9-85a7-d4be9637ced3\",\"type\":\"Grid\"},{\"attributes\":{\"formatter\":{\"id\":\"aa8dd0fa-ab2a-426b-8473-ae032bac673e\",\"type\":\"BasicTickFormatter\"},\"plot\":{\"id\":\"b7b2eec5-534d-4ff1-9901-a3df89f38efd\",\"subtype\":\"Figure\",\"type\":\"Plot\"},\"ticker\":{\"id\":\"149a1170-e136-4ac9-9ded-ef922f3b7882\",\"type\":\"BasicTicker\"}},\"id\":\"22e7ae3d-0a84-4b0d-8e21-fb75d6c67600\",\"type\":\"LinearAxis\"},{\"attributes\":{\"formatter\":{\"id\":\"4351cbd3-976a-405d-94cb-e2efc5d14913\",\"type\":\"BasicTickFormatter\"},\"plot\":{\"id\":\"b7b2eec5-534d-4ff1-9901-a3df89f38efd\",\"subtype\":\"Figure\",\"type\":\"Plot\"},\"ticker\":{\"id\":\"5a78f645-3e7d-4dd3-ba78-e4aa8f8e18d0\",\"type\":\"BasicTicker\"}},\"id\":\"529700f4-374d-4a43-b66c-95012979b0d2\",\"type\":\"LinearAxis\"},{\"attributes\":{\"bottom_units\":\"screen\",\"fill_alpha\":{\"value\":0.5},\"fill_color\":{\"value\":\"lightgrey\"},\"left_units\":\"screen\",\"level\":\"overlay\",\"line_alpha\":{\"value\":1.0},\"line_color\":{\"value\":\"black\"},\"line_dash\":[4,4],\"line_width\":{\"value\":2},\"plot\":null,\"render_mode\":\"css\",\"right_units\":\"screen\",\"top_units\":\"screen\"},\"id\":\"43e44ac7-bc42-4625-a2cc-46f7ebbb03bb\",\"type\":\"BoxAnnotation\"},{\"attributes\":{\"callback\":null},\"id\":\"cf21a28a-9c14-4403-b34f-1ae2221aac9f\",\"type\":\"DataRange1d\"},{\"attributes\":{\"line_alpha\":{\"value\":0.8},\"line_color\":{\"value\":\"#1f77b4\"},\"line_width\":{\"value\":2},\"x\":{\"field\":\"x\"},\"y\":{\"field\":\"y\"}},\"id\":\"6aa145f3-45d3-41bd-9eee-0fecf369b6c5\",\"type\":\"Line\"},{\"attributes\":{\"active_drag\":\"auto\",\"active_inspect\":\"auto\",\"active_scroll\":\"auto\",\"active_tap\":\"auto\",\"tools\":[{\"id\":\"d26f30bc-f605-443d-a0a1-76bbb310e701\",\"type\":\"PanTool\"},{\"id\":\"dec9259a-46d4-4747-bf5a-9e9bb32a3d9f\",\"type\":\"WheelZoomTool\"},{\"id\":\"2c15f2a7-1638-4133-82f0-0ede839a1562\",\"type\":\"BoxZoomTool\"},{\"id\":\"ab4fc3f7-91b7-4433-add9-5e4d00e02db7\",\"type\":\"SaveTool\"},{\"id\":\"141a0056-d134-4ab2-9c7a-04d383358041\",\"type\":\"ResetTool\"},{\"id\":\"7a6040ff-6708-481e-ac25-b21b6f3852c9\",\"type\":\"HelpTool\"}]},\"id\":\"62085554-aee8-484b-962a-ad0f48033971\",\"type\":\"Toolbar\"},{\"attributes\":{},\"id\":\"4351cbd3-976a-405d-94cb-e2efc5d14913\",\"type\":\"BasicTickFormatter\"},{\"attributes\":{\"plot\":{\"id\":\"b7b2eec5-534d-4ff1-9901-a3df89f38efd\",\"subtype\":\"Figure\",\"type\":\"Plot\"}},\"id\":\"d26f30bc-f605-443d-a0a1-76bbb310e701\",\"type\":\"PanTool\"},{\"attributes\":{\"items\":[{\"id\":\"b57b53a1-2a0f-4b3d-9840-31f5054eda62\",\"type\":\"LegendItem\"},{\"id\":\"c8c011c5-0a71-48ea-8e5a-14ae804e2625\",\"type\":\"LegendItem\"},{\"id\":\"e9d33cd1-7a80-4e2a-bbb9-371164e13504\",\"type\":\"LegendItem\"}],\"location\":\"bottom_right\",\"plot\":{\"id\":\"b7b2eec5-534d-4ff1-9901-a3df89f38efd\",\"subtype\":\"Figure\",\"type\":\"Plot\"}},\"id\":\"ca477fe1-7c38-489a-a6ce-4d4732e50f47\",\"type\":\"Legend\"},{\"attributes\":{\"overlay\":{\"id\":\"43e44ac7-bc42-4625-a2cc-46f7ebbb03bb\",\"type\":\"BoxAnnotation\"},\"plot\":{\"id\":\"b7b2eec5-534d-4ff1-9901-a3df89f38efd\",\"subtype\":\"Figure\",\"type\":\"Plot\"}},\"id\":\"2c15f2a7-1638-4133-82f0-0ede839a1562\",\"type\":\"BoxZoomTool\"},{\"attributes\":{},\"id\":\"aa8dd0fa-ab2a-426b-8473-ae032bac673e\",\"type\":\"BasicTickFormatter\"},{\"attributes\":{\"plot\":{\"id\":\"b7b2eec5-534d-4ff1-9901-a3df89f38efd\",\"subtype\":\"Figure\",\"type\":\"Plot\"}},\"id\":\"dec9259a-46d4-4747-bf5a-9e9bb32a3d9f\",\"type\":\"WheelZoomTool\"},{\"attributes\":{\"plot\":{\"id\":\"b7b2eec5-534d-4ff1-9901-a3df89f38efd\",\"subtype\":\"Figure\",\"type\":\"Plot\"}},\"id\":\"7a6040ff-6708-481e-ac25-b21b6f3852c9\",\"type\":\"HelpTool\"},{\"attributes\":{},\"id\":\"648035d1-ccc7-4b2e-8627-184a11ced92c\",\"type\":\"LinearScale\"},{\"attributes\":{\"plot\":{\"id\":\"b7b2eec5-534d-4ff1-9901-a3df89f38efd\",\"subtype\":\"Figure\",\"type\":\"Plot\"}},\"id\":\"141a0056-d134-4ab2-9c7a-04d383358041\",\"type\":\"ResetTool\"},{\"attributes\":{\"plot\":{\"id\":\"b7b2eec5-534d-4ff1-9901-a3df89f38efd\",\"subtype\":\"Figure\",\"type\":\"Plot\"}},\"id\":\"ab4fc3f7-91b7-4433-add9-5e4d00e02db7\",\"type\":\"SaveTool\"},{\"attributes\":{},\"id\":\"365f7f3f-53f1-441d-a38c-4ec847a6955a\",\"type\":\"LinearScale\"},{\"attributes\":{\"line_alpha\":{\"value\":0.8},\"line_color\":{\"value\":\"red\"},\"line_width\":{\"value\":2},\"x\":{\"field\":\"x\"},\"y\":{\"field\":\"y\"}},\"id\":\"18a02c49-1440-4a79-bbb4-c5147e0455ff\",\"type\":\"Line\"}],\"root_ids\":[\"b7b2eec5-534d-4ff1-9901-a3df89f38efd\"]},\"title\":\"Bokeh Application\",\"version\":\"0.12.6\"}};\n",
       "            var render_items = [{\"docid\":\"05f51a88-54a4-406d-86f2-31191d0928a0\",\"elementid\":\"a3d29e39-6be2-4701-9360-a37cd15d4a9b\",\"modelid\":\"b7b2eec5-534d-4ff1-9901-a3df89f38efd\"}];\n",
       "            \n",
       "            Bokeh.embed.embed_items(docs_json, render_items);\n",
       "          };\n",
       "          if (document.readyState != \"loading\") fn();\n",
       "          else document.addEventListener(\"DOMContentLoaded\", fn);\n",
       "        })();\n",
       "      },\n",
       "      function(Bokeh) {\n",
       "      }\n",
       "    ];\n",
       "  \n",
       "    function run_inline_js() {\n",
       "      \n",
       "      if ((window.Bokeh !== undefined) || (force === true)) {\n",
       "        for (var i = 0; i < inline_js.length; i++) {\n",
       "          inline_js[i](window.Bokeh);\n",
       "        }if (force === true) {\n",
       "          display_loaded();\n",
       "        }} else if (Date.now() < window._bokeh_timeout) {\n",
       "        setTimeout(run_inline_js, 100);\n",
       "      } else if (!window._bokeh_failed_load) {\n",
       "        console.log(\"Bokeh: BokehJS failed to load within specified timeout.\");\n",
       "        window._bokeh_failed_load = true;\n",
       "      } else if (force !== true) {\n",
       "        var cell = $(document.getElementById(\"a3d29e39-6be2-4701-9360-a37cd15d4a9b\")).parents('.cell').data().cell;\n",
       "        cell.output_area.append_execute_result(NB_LOAD_WARNING)\n",
       "      }\n",
       "  \n",
       "    }\n",
       "  \n",
       "    if (window._bokeh_is_loading === 0) {\n",
       "      console.log(\"Bokeh: BokehJS loaded, going straight to plotting\");\n",
       "      run_inline_js();\n",
       "    } else {\n",
       "      load_libs(js_urls, function() {\n",
       "        console.log(\"Bokeh: BokehJS plotting callback run at\", now());\n",
       "        run_inline_js();\n",
       "      });\n",
       "    }\n",
       "  }(this));\n",
       "</script>"
      ]
     },
     "metadata": {},
     "output_type": "display_data"
    }
   ],
   "source": [
    "cdf = figure(title = \"cdf\")\n",
    "cdf.line(partition, cdf_vals, line_width = 2, line_alpha = 0.8, legend = \"Estimated CDF\")\n",
    "cdf.line(partition, empirical_cdf(partition, unreasonably_clean_data['bimodal']), line_width = 2, line_alpha = 0.8, color='red', legend=\"Empirical CDF\")\n",
    "cdf.line(partition, empirical_cdf(partition, np.random.choice(unreasonably_clean_data['bimodal'], size=len(partition), replace=False)), line_width = 2, line_alpha = 0.8, color='green', legend=\"Sampled Empirical CDF\")\n",
    "cdf.legend.location = \"bottom_right\"\n",
    "show(cdf)"
   ]
  },
  {
   "cell_type": "code",
   "execution_count": 14,
   "metadata": {},
   "outputs": [
    {
     "data": {
      "text/plain": [
       "{'exception_list': 0.73624747862333062, 'success': True}"
      ]
     },
     "execution_count": 14,
     "metadata": {},
     "output_type": "execute_result"
    }
   ],
   "source": [
    "unreasonably_clean_data.expect_column_numerical_distribution_to_be('bimodal', partition, cdf_vals)"
   ]
  },
  {
   "cell_type": "code",
   "execution_count": 15,
   "metadata": {},
   "outputs": [
    {
     "data": {
      "text/plain": [
       "{'exception_list': 1.4539284529770876e-09, 'success': False}"
      ]
     },
     "execution_count": 15,
     "metadata": {},
     "output_type": "execute_result"
    }
   ],
   "source": [
    "unreasonably_clean_data.expect_column_numerical_distribution_to_be('bimodal', partition, cdf_vals, sample_size=len(unreasonably_clean_data['bimodal']))"
   ]
  },
  {
   "cell_type": "code",
   "execution_count": 16,
   "metadata": {
    "collapsed": true
   },
   "outputs": [],
   "source": [
    "unreasonably_clean_data.save_expectations_config('test_config.json')"
   ]
  },
  {
   "cell_type": "markdown",
   "metadata": {},
   "source": [
    "### Now consider categorical data"
   ]
  },
  {
   "cell_type": "code",
   "execution_count": 17,
   "metadata": {},
   "outputs": [],
   "source": [
    "values = ['cat', 'dog', 'fish', 'turtle', 'none']\n",
    "\n",
    "def build_cat_data(values, frequencies):\n",
    "    lists = [[val] * times for val, times in zip(values, frequencies) ]\n",
    "    return [item for sublist in lists for item in sublist]"
   ]
  },
  {
   "cell_type": "code",
   "execution_count": 18,
   "metadata": {},
   "outputs": [],
   "source": [
    "cat_vals = stats.multinomial.rvs(1000, [0.1, 0.3, 0.2, 0.18, 0.22], size=2)\n",
    "diff_cat_vals = stats.multinomial.rvs(1000, [0.2, 0.3, 0.2, 0.13, 0.18], size=1)"
   ]
  },
  {
   "cell_type": "code",
   "execution_count": 19,
   "metadata": {},
   "outputs": [
    {
     "data": {
      "text/plain": [
       "Power_divergenceResult(statistic=1.7739417036921896, pvalue=0.7772462673761058)"
      ]
     },
     "execution_count": 19,
     "metadata": {},
     "output_type": "execute_result"
    }
   ],
   "source": [
    "stats.chisquare(cat_vals[0], cat_vals[1])"
   ]
  },
  {
   "cell_type": "code",
   "execution_count": 20,
   "metadata": {
    "collapsed": true
   },
   "outputs": [],
   "source": [
    "df1 = pd.DataFrame(build_cat_data(values, cat_vals[0]), columns=['animals'])\n",
    "vals, observed = ge.util.categorical_model(df1['animals'])"
   ]
  },
  {
   "cell_type": "code",
   "execution_count": 21,
   "metadata": {
    "collapsed": true
   },
   "outputs": [],
   "source": [
    "df = pd.DataFrame()\n",
    "df['animals'] = build_cat_data(values, cat_vals[1])\n",
    "df['moreanimals'] = build_cat_data(values, diff_cat_vals[0])\n",
    "categorical_sample_data = ge.df(df)"
   ]
  },
  {
   "cell_type": "code",
   "execution_count": 22,
   "metadata": {},
   "outputs": [
    {
     "data": {
      "text/plain": [
       "{'exception_list': 0.77824464755626077, 'success': True}"
      ]
     },
     "execution_count": 22,
     "metadata": {},
     "output_type": "execute_result"
    }
   ],
   "source": [
    "categorical_sample_data.expect_column_frequency_distribution_to_be('animals', vals, observed)"
   ]
  },
  {
   "cell_type": "markdown",
   "metadata": {},
   "source": [
    "### TODO: the above test statistic should be the same for the test in cell 30..."
   ]
  },
  {
   "cell_type": "code",
   "execution_count": 23,
   "metadata": {},
   "outputs": [
    {
     "data": {
      "text/plain": [
       "{'exception_list': 7.5545676970385821e-25, 'success': False}"
      ]
     },
     "execution_count": 23,
     "metadata": {},
     "output_type": "execute_result"
    }
   ],
   "source": [
    "categorical_sample_data.expect_column_frequency_distribution_to_be('moreanimals', vals, observed)"
   ]
  },
  {
   "cell_type": "code",
   "execution_count": 24,
   "metadata": {},
   "outputs": [],
   "source": [
    "categorical_sample_data.save_expectations_config('test_cat_file.json')"
   ]
  }
 ],
 "metadata": {
  "kernelspec": {
   "display_name": "Python 3",
   "language": "python",
   "name": "python3"
  },
  "language_info": {
   "codemirror_mode": {
    "name": "ipython",
    "version": 3
   },
   "file_extension": ".py",
   "mimetype": "text/x-python",
   "name": "python",
   "nbconvert_exporter": "python",
   "pygments_lexer": "ipython3",
   "version": "3.6.1"
  }
 },
 "nbformat": 4,
 "nbformat_minor": 2
}
