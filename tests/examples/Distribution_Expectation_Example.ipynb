{
 "cells": [
  {
   "cell_type": "code",
   "execution_count": null,
   "metadata": {
    "collapsed": true
   },
   "outputs": [],
   "source": [
    "%load_ext autoreload\n",
    "%autoreload 2"
   ]
  },
  {
   "cell_type": "code",
   "execution_count": null,
   "metadata": {},
   "outputs": [],
   "source": [
    "import pandas as pd\n",
    "import base64\n",
    "import json\n",
    "import pickle\n",
    "import great_expectations as ge\n",
    "\n",
    "from bokeh.plotting import figure, output_notebook, show\n",
    "from bokeh.layouts import gridplot\n",
    "output_notebook()"
   ]
  },
  {
   "cell_type": "code",
   "execution_count": null,
   "metadata": {
    "collapsed": true
   },
   "outputs": [],
   "source": [
    "import numpy as np\n",
    "import scipy\n",
    "import sklearn"
   ]
  },
  {
   "cell_type": "code",
   "execution_count": null,
   "metadata": {
    "collapsed": true
   },
   "outputs": [],
   "source": [
    "df = pd.DataFrame(scipy.stats.norm(loc = 0, scale =1).rvs(size = (1000,3)))\n",
    "df.columns = ['n_1', 'n_2', 'n_3']"
   ]
  },
  {
   "cell_type": "code",
   "execution_count": null,
   "metadata": {
    "collapsed": true
   },
   "outputs": [],
   "source": [
    "df = pd.DataFrame()\n",
    "df['norm_0_1_1000'] = scipy.stats.norm(loc = 0, scale = 1).rvs(size = 1000)\n",
    "df['norm_0_1_1000_2'] = scipy.stats.norm(loc = 0, scale = 1).rvs(size = 1000)\n",
    "df['norm_0_1_100'] = scipy.stats.norm(loc = 0, scale = 1).rvs(size = 1000)\n",
    "df['norm_1_1_1000'] = scipy.stats.norm(loc = 1, scale = 1).rvs(size = 1000)\n",
    "df['norm_10_1_1000'] = scipy.stats.norm(loc = 10, scale = 1).rvs(size = 1000)"
   ]
  },
  {
   "cell_type": "code",
   "execution_count": null,
   "metadata": {
    "collapsed": true
   },
   "outputs": [],
   "source": [
    "unreasonably_clean_data = ge.df(df)"
   ]
  },
  {
   "cell_type": "markdown",
   "metadata": {},
   "source": [
    "## Remember that this is not a statistical test!\n",
    "\n",
    "We are simply making expectations about the *sample* of data that we have in front of us."
   ]
  },
  {
   "cell_type": "code",
   "execution_count": null,
   "metadata": {},
   "outputs": [],
   "source": [
    "unreasonably_clean_data.expect_column_mean_to_be_between('norm_0_1_1000', -0.1, 0.1)"
   ]
  },
  {
   "cell_type": "code",
   "execution_count": null,
   "metadata": {},
   "outputs": [],
   "source": [
    "p1 = figure(title='norm_0_1_1000')\n",
    "hist, edges = np.histogram(df['norm_0_1_1000'], density=True, bins=20)\n",
    "p1.quad(top=hist, bottom=0, left=edges[:-1], right=edges[1:],\n",
    "        fill_color=\"#036564\", line_color=\"#033649\")\n",
    "p1.xaxis.axis_label = 'x'\n",
    "p1.yaxis.axis_label = 'Pr(x)'\n",
    "\n",
    "p2 = figure(title='norm_1_1_1000')\n",
    "hist, edges = np.histogram(df['norm_1_1_1000'], density=True, bins=20)\n",
    "p2.quad(top=hist, bottom=0, left=edges[:-1], right=edges[1:],\n",
    "        fill_color=\"#036564\", line_color=\"#033649\")\n",
    "p2.xaxis.axis_label = 'x'\n",
    "p2.yaxis.axis_label = 'Pr(x)'\n",
    "\n",
    "show(gridplot(p1, p2, ncols=2, plot_width=400))"
   ]
  },
  {
   "cell_type": "markdown",
   "metadata": {},
   "source": [
    "## Now, we *are* going to include statistical tests, but we're going to try to make lots of simplifying assumptions since we are oriented around ease of use.\n",
    "### First, a sanity check:\n",
    "\n",
    "Kolmogorov–Smirnov test should not reject null of same distribution for our $N(0,1)$ samples, and the 2-sample test *should* reject null for our $N(1,1)$ and $N(10,1)$ samples."
   ]
  },
  {
   "cell_type": "code",
   "execution_count": null,
   "metadata": {},
   "outputs": [],
   "source": [
    "print(scipy.stats.ks_2samp(df['norm_0_1_1000'], df['norm_0_1_1000_2']))\n",
    "print(scipy.stats.ks_2samp(df['norm_0_1_1000'], df['norm_0_1_100']))\n",
    "print(scipy.stats.ks_2samp(df['norm_0_1_1000'], df['norm_1_1_1000']))\n",
    "print(scipy.stats.ks_2samp(df['norm_0_1_1000'], df['norm_10_1_1000']))"
   ]
  },
  {
   "cell_type": "markdown",
   "metadata": {},
   "source": [
    "### Next, let's make a simple nonparametric model of our data\n",
    "\n",
    "Our basic plan: build a kernel density estimate, evaluate it, and compare with new samples.\n",
    "\n",
    "We will use all defaults: the gaussian kernel and scott's rule for bandwidth."
   ]
  },
  {
   "cell_type": "code",
   "execution_count": null,
   "metadata": {
    "collapsed": true
   },
   "outputs": [],
   "source": [
    "kde = scipy.stats.kde.gaussian_kde(df['norm_0_1_1000'])"
   ]
  },
  {
   "cell_type": "markdown",
   "metadata": {},
   "source": [
    "## Now, let's inspect the estimate."
   ]
  },
  {
   "cell_type": "code",
   "execution_count": null,
   "metadata": {},
   "outputs": [],
   "source": [
    "x = np.arange(start=np.min(df['norm_0_1_1000']), stop= np.max(df['norm_0_1_1000']), step=kde.covariance_factor())\n",
    "Y = kde.evaluate(x)\n",
    "p1.line(x, Y, line_width = 2, line_alpha=0.8, legend=\"KDE\")\n",
    "p1.legend.location = \"center_right\"\n",
    "show(p1)"
   ]
  },
  {
   "cell_type": "code",
   "execution_count": null,
   "metadata": {},
   "outputs": [],
   "source": [
    "df.expect_column_numerical_distribution_to_be('norm_0_1_1000_2', base64.b64encode(pickle.dumps(kde)).decode('ascii'))"
   ]
  },
  {
   "cell_type": "code",
   "execution_count": null,
   "metadata": {},
   "outputs": [],
   "source": [
    "df.expect_column_numerical_distribution_to_be('norm_1_1_1000', base64.b64encode(pickle.dumps(kde)).decode('ascii'))"
   ]
  },
  {
   "cell_type": "code",
   "execution_count": null,
   "metadata": {},
   "outputs": [],
   "source": [
    "print(json.dumps(df.get_expectations_config(), indent=2))"
   ]
  }
 ],
 "metadata": {
  "kernelspec": {
   "display_name": "Python 3",
   "language": "python",
   "name": "python3"
  },
  "language_info": {
   "codemirror_mode": {
    "name": "ipython",
    "version": 3
   },
   "file_extension": ".py",
   "mimetype": "text/x-python",
   "name": "python",
   "nbconvert_exporter": "python",
   "pygments_lexer": "ipython3",
   "version": "3.6.1"
  }
 },
 "nbformat": 4,
 "nbformat_minor": 2
}
