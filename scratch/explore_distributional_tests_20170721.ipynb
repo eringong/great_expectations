{
 "cells": [
  {
   "cell_type": "code",
   "execution_count": 0,
   "metadata": {
    "collapsed": false
   },
   "outputs": [],
   "source": [
    "import great_expectations as ge\n",
    "reload(ge)"
   ]
  },
  {
   "cell_type": "code",
   "execution_count": 0,
   "metadata": {
    "collapsed": true
   },
   "outputs": [],
   "source": [
    "%matplotlib inline\n",
    "\n",
    "import matplotlib\n",
    "import numpy as np\n",
    "import matplotlib.pyplot as plt\n",
    "\n",
    "import numpy as np"
   ]
  },
  {
   "cell_type": "code",
   "execution_count": 0,
   "metadata": {
    "collapsed": false
   },
   "outputs": [],
   "source": [
    "df = ge.read_csv(\"./data/ipps/ipps_drg.csv\")"
   ]
  },
  {
   "cell_type": "code",
   "execution_count": 0,
   "metadata": {
    "collapsed": false
   },
   "outputs": [],
   "source": [
    "df.head()"
   ]
  },
  {
   "cell_type": "code",
   "execution_count": 0,
   "metadata": {
    "collapsed": false
   },
   "outputs": [],
   "source": [
    "np.log(df[\" Total Discharges \"]).hist()"
   ]
  },
  {
   "cell_type": "code",
   "execution_count": 0,
   "metadata": {
    "collapsed": false
   },
   "outputs": [],
   "source": [
    "np.log(df[\" Average Total Payments \"].map(lambda x: float(x[1]))).hist()"
   ]
  },
  {
   "cell_type": "code",
   "execution_count": 0,
   "metadata": {
    "collapsed": false
   },
   "outputs": [],
   "source": [
    "df[\"ln_avg_total_payments\"] = df[\" Average Total Payments \"].map(lambda x: np.log(float(x[1])))\n",
    "df.ln_avg_total_payments.hist()"
   ]
  },
  {
   "cell_type": "code",
   "execution_count": 0,
   "metadata": {
    "collapsed": false
   },
   "outputs": [],
   "source": [
    "df.ln_avg_total_payments.value_counts()"
   ]
  },
  {
   "cell_type": "code",
   "execution_count": 0,
   "metadata": {
    "collapsed": false
   },
   "outputs": [],
   "source": [
    "df.shape"
   ]
  },
  {
   "cell_type": "code",
   "execution_count": 0,
   "metadata": {
    "collapsed": false
   },
   "outputs": [],
   "source": [
    "my_partition = ge.dataset.util.partition_data(df.ln_avg_total_payments)\n",
    "# my_partition = ge.dataset.util.partition_data(df.ln_avg_total_payments, bins=\"uniform\", n_bins=10)\n",
    "print my_partition\n",
    "print len(my_partition['partition'])\n",
    "plt.plot(my_partition['partition'][:-1], my_partition['weights'])"
   ]
  },
  {
   "cell_type": "code",
   "execution_count": 0,
   "metadata": {
    "collapsed": false
   },
   "outputs": [],
   "source": [
    "# df.expect_column_numerical_distribution_to_be(\"ln_avg_total_payments\", my_partition, sample_size=163065)\n",
    "results = []\n",
    "for s in range(1,10) + range(10,100,10):\n",
    "    new_result = df.expect_column_numerical_distribution_to_be(\"ln_avg_total_payments\", my_partition, sample_size=s)\n",
    "    new_result['sample_size'] = s\n",
    "    results.append(new_result)\n",
    "\n",
    "import pandas as pd\n",
    "result_df = pd.DataFrame(results)"
   ]
  },
  {
   "cell_type": "code",
   "execution_count": 0,
   "metadata": {
    "collapsed": false
   },
   "outputs": [],
   "source": [
    "plt.plot(result_df.sample_size, np.log(result_df.true_value))\n",
    "plt.hlines(np.log(.05), 0,1000)\n",
    "\n",
    "# plt.plot(result_df.sample_size, result_df.true_value)\n",
    "# plt.hlines(0.05, 0, 1000)\n",
    "\n",
    "result_df.head()"
   ]
  },
  {
   "cell_type": "code",
   "execution_count": 0,
   "metadata": {
    "collapsed": true
   },
   "outputs": [],
   "source": [
    "# df.expect_column_numerical_distribution_to_be(\"ln_avg_total_payments\", my_partition, sample_size=163065)\n",
    "results = []\n",
    "for s in range(1,100):\n",
    "    new_result = df.expect_column_numerical_distribution_to_be(\"ln_avg_total_payments\", my_partition, sample_size=50)\n",
    "    new_result['sample_size'] = s\n",
    "    results.append(new_result)\n",
    "\n",
    "import pandas as pd\n",
    "result_df = pd.DataFrame(results)"
   ]
  },
  {
   "cell_type": "code",
   "execution_count": 0,
   "metadata": {
    "collapsed": false
   },
   "outputs": [],
   "source": [
    "result_df.head()\n",
    "result_df.true_value.hist()\n",
    "result_df.true_value.mean()"
   ]
  },
  {
   "cell_type": "code",
   "execution_count": 0,
   "metadata": {
    "collapsed": false
   },
   "outputs": [],
   "source": [
    "df.expect_column_kl_divergence_to_be(\"ln_avg_total_payments\", my_partition)"
   ]
  },
  {
   "cell_type": "code",
   "execution_count": 0,
   "metadata": {
    "collapsed": false
   },
   "outputs": [],
   "source": [
    "df['ln_total_discharges'] = np.log(df[\" Total Discharges \"])\n",
    "np.log(df[\" Total Discharges \"]).hist(bins=100)"
   ]
  },
  {
   "cell_type": "code",
   "execution_count": 0,
   "metadata": {
    "collapsed": false
   },
   "outputs": [],
   "source": [
    "discharge_partition = ge.dataset.util.partition_data(df.ln_total_discharges)\n",
    "discharge_partition\n",
    "plt.plot(discharge_partition['partition'][:-1], discharge_partition['weights'])"
   ]
  },
  {
   "cell_type": "code",
   "execution_count": 0,
   "metadata": {
    "collapsed": false
   },
   "outputs": [],
   "source": [
    "df.expect_column_numerical_distribution_to_be('ln_total_discharges', discharge_partition)"
   ]
  },
  {
   "cell_type": "code",
   "execution_count": 0,
   "metadata": {
    "collapsed": false
   },
   "outputs": [],
   "source": [
    "# df.expect_column_numerical_distribution_to_be(\"ln_avg_total_payments\", my_partition, sample_size=163065)\n",
    "results = []\n",
    "for s in range(1,100):\n",
    "    new_result = df.expect_column_numerical_distribution_to_be(\"ln_total_discharges\", discharge_partition)\n",
    "    new_result['sample_size'] = s\n",
    "    results.append(new_result)\n",
    "\n",
    "import pandas as pd\n",
    "result_df = pd.DataFrame(results)\n",
    "result_df.true_value.hist()"
   ]
  },
  {
   "cell_type": "code",
   "execution_count": 0,
   "metadata": {
    "collapsed": false
   },
   "outputs": [],
   "source": [
    "df[\"ln_total_discharge_offset\"] = df.ln_total_discharges# + .01\n",
    "results = []\n",
    "for s in range(1,1000):\n",
    "    new_result = df.expect_column_numerical_distribution_to_be(\"ln_total_discharge_offset\", discharge_partition)\n",
    "    new_result['sample_size'] = s\n",
    "    results.append(new_result)\n",
    "\n",
    "import pandas as pd\n",
    "result_df = pd.DataFrame(results)\n",
    "result_df.true_value.hist()"
   ]
  },
  {
   "cell_type": "code",
   "execution_count": 0,
   "metadata": {
    "collapsed": false
   },
   "outputs": [],
   "source": [
    "# my_partition = ge.dataset.util.categorical_partition_data(df.avg_total_payments)\n",
    "# plt.bar(my_partition['partition'], my_partition['weights'])\n",
    "# df.expect_column_frequency_distribution_to_be(\"avg_total_payments\", my_partition)"
   ]
  },
  {
   "cell_type": "code",
   "execution_count": 0,
   "metadata": {
    "collapsed": false
   },
   "outputs": [],
   "source": [
    "import random\n",
    "df[\"stuff\"] = df.ln_avg_total_payments.map(lambda x: random.choice(list(\"ABCDE\")))\n",
    "df.stuff.value_counts()"
   ]
  },
  {
   "cell_type": "code",
   "execution_count": 0,
   "metadata": {
    "collapsed": false
   },
   "outputs": [],
   "source": [
    "my_partition = ge.dataset.util.categorical_partition_data(df.stuff)\n",
    "print my_partition\n",
    "# plt.bar(my_partition['partition'], my_partition['weights'])"
   ]
  },
  {
   "cell_type": "code",
   "execution_count": 0,
   "metadata": {
    "collapsed": false
   },
   "outputs": [],
   "source": [
    "df.expect_column_frequency_distribution_to_be(\"stuff\", my_partition)"
   ]
  },
  {
   "cell_type": "code",
   "execution_count": 0,
   "metadata": {
    "collapsed": false
   },
   "outputs": [],
   "source": [
    "my_list = list(\"ABCDE\"*50)+[\"C\"]\n",
    "\n",
    "df[\"other_stuff\"] = df.ln_avg_total_payments.map(lambda x: random.choice(my_list))"
   ]
  },
  {
   "cell_type": "code",
   "execution_count": 0,
   "metadata": {
    "collapsed": false
   },
   "outputs": [],
   "source": [
    "df.expect_column_frequency_distribution_to_be(\"other_stuff\", my_partition)"
   ]
  },
  {
   "cell_type": "code",
   "execution_count": 0,
   "metadata": {
    "collapsed": false
   },
   "outputs": [],
   "source": [
    "expected_series = pd.Series(my_partition['weights'], index=my_partition['partition'], name='expected') * (1.*100)"
   ]
  },
  {
   "cell_type": "code",
   "execution_count": 0,
   "metadata": {
    "collapsed": false
   },
   "outputs": [],
   "source": [
    "expected_series"
   ]
  },
  {
   "cell_type": "code",
   "execution_count": 0,
   "metadata": {
    "collapsed": true
   },
   "outputs": [],
   "source": []
  },
  {
   "cell_type": "code",
   "execution_count": 0,
   "metadata": {
    "collapsed": true
   },
   "outputs": [],
   "source": []
  },
  {
   "cell_type": "code",
   "execution_count": 0,
   "metadata": {
    "collapsed": true
   },
   "outputs": [],
   "source": []
  }
 ],
 "metadata": {
  "kernelspec": {
   "display_name": "Python 2",
   "language": "python",
   "name": "python2"
  },
  "language_info": {
   "codemirror_mode": {
    "name": "ipython",
    "version": 2
   },
   "file_extension": ".py",
   "mimetype": "text/x-python",
   "name": "python",
   "nbconvert_exporter": "python",
   "pygments_lexer": "ipython2",
   "version": "2.7.13"
  }
 },
 "nbformat": 4,
 "nbformat_minor": 2
}