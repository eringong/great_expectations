{
 "cells": [
  {
   "cell_type": "markdown",
   "metadata": {},
   "source": [
    "# Using Great Expectations"
   ]
  },
  {
   "cell_type": "code",
   "execution_count": 1,
   "metadata": {
    "collapsed": true
   },
   "outputs": [],
   "source": [
    "import great_expectations as ge\n",
    "import pandas as pd\n",
    "from matplotlib import pyplot as plt\n",
    "%matplotlib inline"
   ]
  },
  {
   "cell_type": "code",
   "execution_count": 17,
   "metadata": {
    "collapsed": false
   },
   "outputs": [
    {
     "name": "stdout",
     "output_type": "stream",
     "text": [
      "Index(['DRG Definition', 'Provider Id', 'Provider Name',\n",
      "       'Provider Street Address', 'Provider City', 'Provider State',\n",
      "       'Provider Zip Code', 'Hospital Referral Region Description',\n",
      "       ' Total Discharges ', ' Average Covered Charges ',\n",
      "       ' Average Total Payments ', 'Average Medicare Payments'],\n",
      "      dtype='object')\n"
     ]
    }
   ],
   "source": [
    "df = pd.read_csv('/home/derek/Desktop/hospital_charge_data.csv')\n",
    "df = ge.dataset.PandasDataSet(df)\n",
    "print(df.columns)"
   ]
  },
  {
   "cell_type": "code",
   "execution_count": 22,
   "metadata": {
    "collapsed": false
   },
   "outputs": [
    {
     "data": {
      "text/html": [
       "<div>\n",
       "<table border=\"1\" class=\"dataframe\">\n",
       "  <thead>\n",
       "    <tr style=\"text-align: right;\">\n",
       "      <th></th>\n",
       "      <th>DRG Definition</th>\n",
       "      <th>Provider Id</th>\n",
       "      <th>Provider Name</th>\n",
       "      <th>Provider Street Address</th>\n",
       "      <th>Provider City</th>\n",
       "      <th>Provider State</th>\n",
       "      <th>Provider Zip Code</th>\n",
       "      <th>Hospital Referral Region Description</th>\n",
       "      <th>Total Discharges</th>\n",
       "      <th>Average Covered Charges</th>\n",
       "      <th>Average Total Payments</th>\n",
       "      <th>Average Medicare Payments</th>\n",
       "    </tr>\n",
       "  </thead>\n",
       "  <tbody>\n",
       "    <tr>\n",
       "      <th>0</th>\n",
       "      <td>039 - EXTRACRANIAL PROCEDURES W/O CC/MCC</td>\n",
       "      <td>10001</td>\n",
       "      <td>SOUTHEAST ALABAMA MEDICAL CENTER</td>\n",
       "      <td>1108 ROSS CLARK CIRCLE</td>\n",
       "      <td>DOTHAN</td>\n",
       "      <td>AL</td>\n",
       "      <td>36301</td>\n",
       "      <td>AL - Dothan</td>\n",
       "      <td>91</td>\n",
       "      <td>$32963.07</td>\n",
       "      <td>$5777.24</td>\n",
       "      <td>$4763.73</td>\n",
       "    </tr>\n",
       "    <tr>\n",
       "      <th>1</th>\n",
       "      <td>039 - EXTRACRANIAL PROCEDURES W/O CC/MCC</td>\n",
       "      <td>10005</td>\n",
       "      <td>MARSHALL MEDICAL CENTER SOUTH</td>\n",
       "      <td>2505 U S HIGHWAY 431 NORTH</td>\n",
       "      <td>BOAZ</td>\n",
       "      <td>AL</td>\n",
       "      <td>35957</td>\n",
       "      <td>AL - Birmingham</td>\n",
       "      <td>14</td>\n",
       "      <td>$15131.85</td>\n",
       "      <td>$5787.57</td>\n",
       "      <td>$4976.71</td>\n",
       "    </tr>\n",
       "    <tr>\n",
       "      <th>2</th>\n",
       "      <td>039 - EXTRACRANIAL PROCEDURES W/O CC/MCC</td>\n",
       "      <td>10006</td>\n",
       "      <td>ELIZA COFFEE MEMORIAL HOSPITAL</td>\n",
       "      <td>205 MARENGO STREET</td>\n",
       "      <td>FLORENCE</td>\n",
       "      <td>AL</td>\n",
       "      <td>35631</td>\n",
       "      <td>AL - Birmingham</td>\n",
       "      <td>24</td>\n",
       "      <td>$37560.37</td>\n",
       "      <td>$5434.95</td>\n",
       "      <td>$4453.79</td>\n",
       "    </tr>\n",
       "    <tr>\n",
       "      <th>3</th>\n",
       "      <td>039 - EXTRACRANIAL PROCEDURES W/O CC/MCC</td>\n",
       "      <td>10011</td>\n",
       "      <td>ST VINCENT'S EAST</td>\n",
       "      <td>50 MEDICAL PARK EAST DRIVE</td>\n",
       "      <td>BIRMINGHAM</td>\n",
       "      <td>AL</td>\n",
       "      <td>35235</td>\n",
       "      <td>AL - Birmingham</td>\n",
       "      <td>25</td>\n",
       "      <td>$13998.28</td>\n",
       "      <td>$5417.56</td>\n",
       "      <td>$4129.16</td>\n",
       "    </tr>\n",
       "    <tr>\n",
       "      <th>4</th>\n",
       "      <td>039 - EXTRACRANIAL PROCEDURES W/O CC/MCC</td>\n",
       "      <td>10016</td>\n",
       "      <td>SHELBY BAPTIST MEDICAL CENTER</td>\n",
       "      <td>1000 FIRST STREET NORTH</td>\n",
       "      <td>ALABASTER</td>\n",
       "      <td>AL</td>\n",
       "      <td>35007</td>\n",
       "      <td>AL - Birmingham</td>\n",
       "      <td>18</td>\n",
       "      <td>$31633.27</td>\n",
       "      <td>$5658.33</td>\n",
       "      <td>$4851.44</td>\n",
       "    </tr>\n",
       "  </tbody>\n",
       "</table>\n",
       "</div>"
      ],
      "text/plain": [
       "                             DRG Definition  Provider Id  \\\n",
       "0  039 - EXTRACRANIAL PROCEDURES W/O CC/MCC        10001   \n",
       "1  039 - EXTRACRANIAL PROCEDURES W/O CC/MCC        10005   \n",
       "2  039 - EXTRACRANIAL PROCEDURES W/O CC/MCC        10006   \n",
       "3  039 - EXTRACRANIAL PROCEDURES W/O CC/MCC        10011   \n",
       "4  039 - EXTRACRANIAL PROCEDURES W/O CC/MCC        10016   \n",
       "\n",
       "                      Provider Name     Provider Street Address Provider City  \\\n",
       "0  SOUTHEAST ALABAMA MEDICAL CENTER      1108 ROSS CLARK CIRCLE        DOTHAN   \n",
       "1     MARSHALL MEDICAL CENTER SOUTH  2505 U S HIGHWAY 431 NORTH          BOAZ   \n",
       "2    ELIZA COFFEE MEMORIAL HOSPITAL          205 MARENGO STREET      FLORENCE   \n",
       "3                 ST VINCENT'S EAST  50 MEDICAL PARK EAST DRIVE    BIRMINGHAM   \n",
       "4     SHELBY BAPTIST MEDICAL CENTER     1000 FIRST STREET NORTH     ALABASTER   \n",
       "\n",
       "  Provider State  Provider Zip Code Hospital Referral Region Description  \\\n",
       "0             AL              36301                          AL - Dothan   \n",
       "1             AL              35957                      AL - Birmingham   \n",
       "2             AL              35631                      AL - Birmingham   \n",
       "3             AL              35235                      AL - Birmingham   \n",
       "4             AL              35007                      AL - Birmingham   \n",
       "\n",
       "    Total Discharges   Average Covered Charges   Average Total Payments   \\\n",
       "0                  91                 $32963.07                 $5777.24   \n",
       "1                  14                 $15131.85                 $5787.57   \n",
       "2                  24                 $37560.37                 $5434.95   \n",
       "3                  25                 $13998.28                 $5417.56   \n",
       "4                  18                 $31633.27                 $5658.33   \n",
       "\n",
       "  Average Medicare Payments  \n",
       "0                  $4763.73  \n",
       "1                  $4976.71  \n",
       "2                  $4453.79  \n",
       "3                  $4129.16  \n",
       "4                  $4851.44  "
      ]
     },
     "execution_count": 22,
     "metadata": {},
     "output_type": "execute_result"
    }
   ],
   "source": [
    "df.head()"
   ]
  },
  {
   "cell_type": "code",
   "execution_count": 18,
   "metadata": {
    "collapsed": false
   },
   "outputs": [
    {
     "data": {
      "text/plain": [
       "{'success': True,\n",
       " 'summary_obj': {'exception_count': 0,\n",
       "  'exception_percent': 0.0,\n",
       "  'partial_exception_list': []}}"
      ]
     },
     "execution_count": 18,
     "metadata": {},
     "output_type": "execute_result"
    }
   ],
   "source": [
    "df.expect_column_value_lengths_to_equal(column='Provider State', value=2)"
   ]
  },
  {
   "cell_type": "code",
   "execution_count": 19,
   "metadata": {
    "collapsed": false
   },
   "outputs": [
    {
     "data": {
      "text/plain": [
       "{'success': False,\n",
       " 'summary_obj': {'exception_count': 2647,\n",
       "  'exception_percent': 0.016232790604973478,\n",
       "  'partial_exception_list': [224,\n",
       "   230,\n",
       "   206,\n",
       "   205,\n",
       "   285,\n",
       "   303,\n",
       "   202,\n",
       "   201,\n",
       "   217,\n",
       "   232,\n",
       "   206,\n",
       "   240,\n",
       "   274,\n",
       "   252,\n",
       "   213,\n",
       "   226,\n",
       "   213,\n",
       "   265,\n",
       "   218,\n",
       "   213]}}"
      ]
     },
     "execution_count": 19,
     "metadata": {},
     "output_type": "execute_result"
    }
   ],
   "source": [
    "df.expect_column_values_to_be_between(column=' Total Discharges ', min_value=0, max_value=200)"
   ]
  },
  {
   "cell_type": "code",
   "execution_count": 20,
   "metadata": {
    "collapsed": false
   },
   "outputs": [
    {
     "data": {
      "text/plain": [
       "{'success': False,\n",
       " 'summary_obj': {'exception_count': 163065,\n",
       "  'exception_percent': 1.0,\n",
       "  'partial_exception_list': ['$32963.07',\n",
       "   '$15131.85',\n",
       "   '$37560.37',\n",
       "   '$13998.28',\n",
       "   '$31633.27',\n",
       "   '$16920.79',\n",
       "   '$11977.13',\n",
       "   '$35841.09',\n",
       "   '$28523.39',\n",
       "   '$75233.38',\n",
       "   '$67327.92',\n",
       "   '$39607.28',\n",
       "   '$22862.23',\n",
       "   '$31110.85',\n",
       "   '$25411.33',\n",
       "   '$9234.51',\n",
       "   '$15895.85',\n",
       "   '$19721.16',\n",
       "   '$10710.88',\n",
       "   '$51343.75']}}"
      ]
     },
     "execution_count": 20,
     "metadata": {},
     "output_type": "execute_result"
    }
   ],
   "source": [
    "df.expect_column_values_to_be_of_type(column=' Average Covered Charges ', type_='string')"
   ]
  },
  {
   "cell_type": "code",
   "execution_count": 30,
   "metadata": {
    "collapsed": false
   },
   "outputs": [
    {
     "data": {
      "text/plain": [
       "{'success': False,\n",
       " 'summary_obj': {'exception_count': 61,\n",
       "  'exception_percent': 0.00037408395425137214,\n",
       "  'partial_exception_list': ['#1 MEDICAL PARK DRIVE',\n",
       "   '#1 MEDICAL PARK DRIVE',\n",
       "   '#1 MEDICAL PARK DRIVE',\n",
       "   '#1 MEDICAL PARK DRIVE',\n",
       "   '#1 MEDICAL PARK DRIVE',\n",
       "   '#1 MEDICAL PARK DRIVE',\n",
       "   '#3 EAST BENJAMIN DRIVE',\n",
       "   '#1 MEDICAL PARK DRIVE',\n",
       "   '#1 MEDICAL PARK DRIVE',\n",
       "   '#3 EAST BENJAMIN DRIVE',\n",
       "   '#1 MEDICAL PARK DRIVE',\n",
       "   '#1 MEDICAL PARK DRIVE',\n",
       "   '#3 EAST BENJAMIN DRIVE',\n",
       "   '#1 MEDICAL PARK DRIVE',\n",
       "   '#3 EAST BENJAMIN DRIVE',\n",
       "   '#1 MEDICAL PARK DRIVE',\n",
       "   '#1 MEDICAL PARK DRIVE',\n",
       "   '#1 MEDICAL PARK DRIVE',\n",
       "   '#1 MEDICAL PARK DRIVE',\n",
       "   '#1 MEDICAL PARK DRIVE']}}"
      ]
     },
     "execution_count": 30,
     "metadata": {},
     "output_type": "execute_result"
    }
   ],
   "source": [
    "df.expect_column_values_to_match_regex(column='Provider Street Address',regex=r'^[0-9]*[\\b\\w]+')"
   ]
  },
  {
   "cell_type": "code",
   "execution_count": 32,
   "metadata": {
    "collapsed": false
   },
   "outputs": [
    {
     "data": {
      "text/plain": [
       "{'success': True, 'true_value': 3337}"
      ]
     },
     "execution_count": 32,
     "metadata": {},
     "output_type": "execute_result"
    }
   ],
   "source": [
    "df.expect_column_unique_value_count_to_be_between(column='Provider Id', min_value=3000, max_value=4000)"
   ]
  },
  {
   "cell_type": "code",
   "execution_count": null,
   "metadata": {
    "collapsed": true
   },
   "outputs": [],
   "source": []
  }
 ],
 "metadata": {
  "kernelspec": {
   "display_name": "Python 3",
   "language": "python",
   "name": "python3"
  },
  "language_info": {
   "codemirror_mode": {
    "name": "ipython",
    "version": 3
   },
   "file_extension": ".py",
   "mimetype": "text/x-python",
   "name": "python",
   "nbconvert_exporter": "python",
   "pygments_lexer": "ipython3",
   "version": "3.6.0"
  }
 },
 "nbformat": 4,
 "nbformat_minor": 2
}
